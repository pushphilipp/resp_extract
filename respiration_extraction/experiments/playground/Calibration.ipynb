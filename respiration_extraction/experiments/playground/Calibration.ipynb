{
 "cells": [
  {
   "cell_type": "markdown",
   "source": [
    "# Calibrate Nilspods"
   ],
   "metadata": {
    "collapsed": false,
    "pycharm": {
     "name": "#%% md\n"
    }
   }
  },
  {
   "cell_type": "code",
   "execution_count": 3,
   "outputs": [
    {
     "name": "stdout",
     "output_type": "stream",
     "text": [
      "                                     gyr_x     gyr_y     gyr_z     acc_x  \\\n",
      "time                                                                       \n",
      "2022-10-18 15:53:48.003906+02:00 -0.305176  0.000000 -0.427246 -9.877061   \n",
      "2022-10-18 15:53:48.007812+02:00 -0.610352 -0.061035 -0.305176 -9.843530   \n",
      "2022-10-18 15:53:48.011718+02:00 -0.305176  0.061035 -0.427246 -9.881851   \n",
      "2022-10-18 15:53:48.015625+02:00 -0.183105  0.061035 -0.183105 -9.944121   \n",
      "2022-10-18 15:53:48.019531+02:00 -0.305176  0.000000 -0.183105 -9.972861   \n",
      "...                                    ...       ...       ...       ...   \n",
      "2022-10-18 15:54:50.847656+02:00 -0.305176  0.122070 -0.427246 -0.014370   \n",
      "2022-10-18 15:54:50.851562+02:00 -0.183105  0.000000 -0.366211 -0.014370   \n",
      "2022-10-18 15:54:50.855468+02:00 -0.366211 -0.061035 -0.427246 -0.004790   \n",
      "2022-10-18 15:54:50.859375+02:00 -0.549316 -0.122070 -0.549316  0.014370   \n",
      "2022-10-18 15:54:50.863281+02:00 -0.671387  0.122070 -0.366211  0.009580   \n",
      "\n",
      "                                     acc_y      acc_z    ecg  \n",
      "time                                                          \n",
      "2022-10-18 15:53:48.003906+02:00 -0.426313  -0.330513    0.0  \n",
      "2022-10-18 15:53:48.007812+02:00 -0.378413  -0.282612   -1.0  \n",
      "2022-10-18 15:53:48.011718+02:00 -0.378413  -0.277822   -2.0  \n",
      "2022-10-18 15:53:48.015625+02:00 -0.455054  -0.306563   -3.0  \n",
      "2022-10-18 15:53:48.019531+02:00 -0.493374  -0.407153   -5.0  \n",
      "...                                    ...        ...    ...  \n",
      "2022-10-18 15:54:50.847656+02:00 -0.445474  -9.924961    8.0  \n",
      "2022-10-18 15:54:50.851562+02:00 -0.373623  -9.934541  289.0  \n",
      "2022-10-18 15:54:50.855468+02:00 -0.431104 -10.020762   26.0  \n",
      "2022-10-18 15:54:50.859375+02:00 -0.421523 -10.001602 -427.0  \n",
      "2022-10-18 15:54:50.863281+02:00 -0.378413  -9.862690 -473.0  \n",
      "\n",
      "[16093 rows x 7 columns]\n"
     ]
    }
   ],
   "source": [
    "from pathlib import Path\n",
    "import biopsykit\n",
    "df, _ = biopsykit.io.nilspod.load_dataset_nilspod(\"/Users/Philipp/git/ba-data/calibration/NilsPodX-E18A_20221018_155348.bin\")\n",
    "print(df)"
   ],
   "metadata": {
    "collapsed": false,
    "pycharm": {
     "name": "#%%\n"
    }
   }
  },
  {
   "cell_type": "code",
   "execution_count": 4,
   "outputs": [
    {
     "ename": "TypeError",
     "evalue": "<lambda>() missing 2 required positional arguments: 'acc_x_p' and 'gyr_x_p'",
     "output_type": "error",
     "traceback": [
      "\u001B[0;31m---------------------------------------------------------------------------\u001B[0m",
      "\u001B[0;31mTypeError\u001B[0m                                 Traceback (most recent call last)",
      "Input \u001B[0;32mIn [4]\u001B[0m, in \u001B[0;36m<cell line: 2>\u001B[0;34m()\u001B[0m\n\u001B[1;32m      1\u001B[0m \u001B[38;5;28;01mfrom\u001B[39;00m \u001B[38;5;21;01mimucal\u001B[39;00m \u001B[38;5;28;01mimport\u001B[39;00m ferraris_regions_from_interactive_plot\n\u001B[0;32m----> 2\u001B[0m regions, section_list \u001B[38;5;241m=\u001B[39m \u001B[43mferraris_regions_from_interactive_plot\u001B[49m\u001B[43m(\u001B[49m\u001B[43mdf\u001B[49m\u001B[43m)\u001B[49m\n",
      "File \u001B[0;32m~/git/ba-philipp-doerfler/Code/respiration_extraction/.venv/lib/python3.9/site-packages/imucal/ferraris_calibration.py:511\u001B[0m, in \u001B[0;36mferraris_regions_from_interactive_plot\u001B[0;34m(data, acc_cols, gyr_cols, title)\u001B[0m\n\u001B[1;32m    507\u001B[0m gyr \u001B[38;5;241m=\u001B[39m data[\u001B[38;5;28mlist\u001B[39m(gyr_cols)]\u001B[38;5;241m.\u001B[39mto_numpy()\n\u001B[1;32m    509\u001B[0m section_list \u001B[38;5;241m=\u001B[39m _find_ferraris_regions_interactive(acc, gyr, title\u001B[38;5;241m=\u001B[39mtitle)\n\u001B[1;32m    510\u001B[0m \u001B[38;5;28;01mreturn\u001B[39;00m (\n\u001B[0;32m--> 511\u001B[0m     \u001B[43mferraris_regions_from_section_list\u001B[49m\u001B[43m(\u001B[49m\u001B[43mdata\u001B[49m\u001B[43m,\u001B[49m\u001B[43m \u001B[49m\u001B[43msection_list\u001B[49m\u001B[43m,\u001B[49m\u001B[43m \u001B[49m\u001B[43mgyr_cols\u001B[49m\u001B[38;5;241;43m=\u001B[39;49m\u001B[43mgyr_cols\u001B[49m\u001B[43m,\u001B[49m\u001B[43m \u001B[49m\u001B[43macc_cols\u001B[49m\u001B[38;5;241;43m=\u001B[39;49m\u001B[43macc_cols\u001B[49m\u001B[43m)\u001B[49m,\n\u001B[1;32m    512\u001B[0m     section_list,\n\u001B[1;32m    513\u001B[0m )\n",
      "File \u001B[0;32m~/git/ba-philipp-doerfler/Code/respiration_extraction/.venv/lib/python3.9/site-packages/imucal/ferraris_calibration.py:456\u001B[0m, in \u001B[0;36mferraris_regions_from_section_list\u001B[0;34m(data, section_list, acc_cols, gyr_cols)\u001B[0m\n\u001B[1;32m    413\u001B[0m \u001B[38;5;124;03m\"\"\"Create a Calibration object based on a valid section list.\u001B[39;00m\n\u001B[1;32m    414\u001B[0m \n\u001B[1;32m    415\u001B[0m \u001B[38;5;124;03mA section list marks the start and the endpoints of each required section in the data object.\u001B[39;00m\n\u001B[0;32m   (...)\u001B[0m\n\u001B[1;32m    453\u001B[0m \n\u001B[1;32m    454\u001B[0m \u001B[38;5;124;03m\"\"\"\u001B[39;00m\n\u001B[1;32m    455\u001B[0m df \u001B[38;5;241m=\u001B[39m _convert_data_from_section_list_to_df(data, section_list)\n\u001B[0;32m--> 456\u001B[0m \u001B[38;5;28;01mreturn\u001B[39;00m \u001B[43mferraris_regions_from_df\u001B[49m\u001B[43m(\u001B[49m\u001B[43mdf\u001B[49m\u001B[43m,\u001B[49m\u001B[43m \u001B[49m\u001B[43macc_cols\u001B[49m\u001B[38;5;241;43m=\u001B[39;49m\u001B[43macc_cols\u001B[49m\u001B[43m,\u001B[49m\u001B[43m \u001B[49m\u001B[43mgyr_cols\u001B[49m\u001B[38;5;241;43m=\u001B[39;49m\u001B[43mgyr_cols\u001B[49m\u001B[43m)\u001B[49m\n",
      "File \u001B[0;32m~/git/ba-philipp-doerfler/Code/respiration_extraction/.venv/lib/python3.9/site-packages/imucal/ferraris_calibration.py:404\u001B[0m, in \u001B[0;36mferraris_regions_from_df\u001B[0;34m(df, acc_cols, gyr_cols)\u001B[0m\n\u001B[1;32m    401\u001B[0m acc_dict \u001B[38;5;241m=\u001B[39m {\u001B[38;5;124m\"\u001B[39m\u001B[38;5;124macc_\u001B[39m\u001B[38;5;124m\"\u001B[39m \u001B[38;5;241m+\u001B[39m k: v \u001B[38;5;28;01mfor\u001B[39;00m k, v \u001B[38;5;129;01min\u001B[39;00m acc_dict\u001B[38;5;241m.\u001B[39mitems()}\n\u001B[1;32m    402\u001B[0m gyro_dict \u001B[38;5;241m=\u001B[39m {\u001B[38;5;124m\"\u001B[39m\u001B[38;5;124mgyr_\u001B[39m\u001B[38;5;124m\"\u001B[39m \u001B[38;5;241m+\u001B[39m k: v \u001B[38;5;28;01mfor\u001B[39;00m k, v \u001B[38;5;129;01min\u001B[39;00m gyro_dict\u001B[38;5;241m.\u001B[39mitems()}\n\u001B[0;32m--> 404\u001B[0m \u001B[38;5;28;01mreturn\u001B[39;00m \u001B[43mFerrarisSignalRegions\u001B[49m\u001B[43m(\u001B[49m\u001B[38;5;241;43m*\u001B[39;49m\u001B[38;5;241;43m*\u001B[39;49m\u001B[43macc_dict\u001B[49m\u001B[43m,\u001B[49m\u001B[43m \u001B[49m\u001B[38;5;241;43m*\u001B[39;49m\u001B[38;5;241;43m*\u001B[39;49m\u001B[43mgyro_dict\u001B[49m\u001B[43m)\u001B[49m\n",
      "\u001B[0;31mTypeError\u001B[0m: <lambda>() missing 2 required positional arguments: 'acc_x_p' and 'gyr_x_p'"
     ]
    }
   ],
   "source": [
    "from imucal import ferraris_regions_from_interactive_plot\n",
    "regions, section_list = ferraris_regions_from_interactive_plot(df)"
   ],
   "metadata": {
    "collapsed": false,
    "pycharm": {
     "name": "#%%\n"
    }
   }
  },
  {
   "cell_type": "code",
   "execution_count": null,
   "outputs": [],
   "source": [],
   "metadata": {
    "collapsed": false,
    "pycharm": {
     "name": "#%%\n"
    }
   }
  }
 ],
 "metadata": {
  "kernelspec": {
   "display_name": "Python 3",
   "language": "python",
   "name": "python3"
  },
  "language_info": {
   "codemirror_mode": {
    "name": "ipython",
    "version": 2
   },
   "file_extension": ".py",
   "mimetype": "text/x-python",
   "name": "python",
   "nbconvert_exporter": "python",
   "pygments_lexer": "ipython2",
   "version": "2.7.6"
  }
 },
 "nbformat": 4,
 "nbformat_minor": 0
}