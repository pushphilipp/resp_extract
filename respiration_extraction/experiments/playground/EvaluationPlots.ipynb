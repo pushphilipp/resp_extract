{
 "cells": [
  {
   "cell_type": "code",
   "execution_count": 1,
   "outputs": [
    {
     "name": "stderr",
     "output_type": "stream",
     "text": [
      "/Users/Philipp/git/ba-philipp-doerfler/Code/respiration_extraction/.venv/lib/python3.9/site-packages/outdated/utils.py:14: OutdatedPackageWarning: The package pingouin is out of date. Your version is 0.5.2, the latest is 0.5.3.\n",
      "Set the environment variable OUTDATED_IGNORE=1 to disable these warnings.\n",
      "  return warn(\n"
     ]
    }
   ],
   "source": [
    "from pathlib import Path\n",
    "import glob\n",
    "import np as np\n",
    "import pandas as pd\n",
    "import seaborn as sns\n",
    "from matplotlib import pyplot as plt\n",
    "from biopsykit.utils.dataframe_handling import multi_xs"
   ],
   "metadata": {
    "collapsed": false,
    "pycharm": {
     "name": "#%%\n"
    }
   }
  },
  {
   "cell_type": "code",
   "execution_count": 2,
   "outputs": [],
   "source": [
    "#Function for loading all data\n",
    "PATH = Path(\"/Users/Philipp/git/ba_resp_dataset/subjects/philipp_dataset\")\n",
    "def load_csvs():\n",
    "    all_csvs = glob.glob( (PATH / \"**/wide/*.csv\").__str__() , recursive=True)\n",
    "    dfs = []\n",
    "    for csv in all_csvs:\n",
    "        df = pd.read_csv(csv)\n",
    "        dfs.append(df)\n",
    "\n",
    "    final_df = pd.concat(dfs, axis=0)\n",
    "    return final_df"
   ],
   "metadata": {
    "collapsed": false,
    "pycharm": {
     "name": "#%%\n"
    }
   }
  },
  {
   "cell_type": "code",
   "execution_count": 3,
   "outputs": [
    {
     "data": {
      "text/plain": "                                                                                                              Values\nStudy      Participant Phase             Extraction          Estimation           Sensor      Measurement           \nBA_Philipp 12          Baseline 3        ExtractionKarlen    PeakDetection        Biopac ECG  CC           -0.176658\n                                                                                              Difference   -6.569521\n                                                                                              GT           17.240002\n                                                                                              RR           23.809524\n                                                             PeakThroughDetection Biopac ECG  CC           -0.176658\n...                                                                                                              ...\n           5           Standing and rest SavGolExtractionAcc CountAdvDetection    NilsPod IMU RR            6.831571\n                                                             GradiantDetection    NilsPod IMU CC           -0.505340\n                                                                                              Difference    0.149608\n                                                                                              GT            8.155863\n                                                                                              RR            8.006255\n\n[63720 rows x 1 columns]",
      "text/html": "<div>\n<style scoped>\n    .dataframe tbody tr th:only-of-type {\n        vertical-align: middle;\n    }\n\n    .dataframe tbody tr th {\n        vertical-align: top;\n    }\n\n    .dataframe thead th {\n        text-align: right;\n    }\n</style>\n<table border=\"1\" class=\"dataframe\">\n  <thead>\n    <tr style=\"text-align: right;\">\n      <th></th>\n      <th></th>\n      <th></th>\n      <th></th>\n      <th></th>\n      <th></th>\n      <th></th>\n      <th>Values</th>\n    </tr>\n    <tr>\n      <th>Study</th>\n      <th>Participant</th>\n      <th>Phase</th>\n      <th>Extraction</th>\n      <th>Estimation</th>\n      <th>Sensor</th>\n      <th>Measurement</th>\n      <th></th>\n    </tr>\n  </thead>\n  <tbody>\n    <tr>\n      <th rowspan=\"11\" valign=\"top\">BA_Philipp</th>\n      <th rowspan=\"5\" valign=\"top\">12</th>\n      <th rowspan=\"5\" valign=\"top\">Baseline 3</th>\n      <th rowspan=\"5\" valign=\"top\">ExtractionKarlen</th>\n      <th rowspan=\"4\" valign=\"top\">PeakDetection</th>\n      <th rowspan=\"4\" valign=\"top\">Biopac ECG</th>\n      <th>CC</th>\n      <td>-0.176658</td>\n    </tr>\n    <tr>\n      <th>Difference</th>\n      <td>-6.569521</td>\n    </tr>\n    <tr>\n      <th>GT</th>\n      <td>17.240002</td>\n    </tr>\n    <tr>\n      <th>RR</th>\n      <td>23.809524</td>\n    </tr>\n    <tr>\n      <th>PeakThroughDetection</th>\n      <th>Biopac ECG</th>\n      <th>CC</th>\n      <td>-0.176658</td>\n    </tr>\n    <tr>\n      <th>...</th>\n      <th>...</th>\n      <th>...</th>\n      <th>...</th>\n      <th>...</th>\n      <th>...</th>\n      <td>...</td>\n    </tr>\n    <tr>\n      <th rowspan=\"5\" valign=\"top\">5</th>\n      <th rowspan=\"5\" valign=\"top\">Standing and rest</th>\n      <th rowspan=\"5\" valign=\"top\">SavGolExtractionAcc</th>\n      <th>CountAdvDetection</th>\n      <th>NilsPod IMU</th>\n      <th>RR</th>\n      <td>6.831571</td>\n    </tr>\n    <tr>\n      <th rowspan=\"4\" valign=\"top\">GradiantDetection</th>\n      <th rowspan=\"4\" valign=\"top\">NilsPod IMU</th>\n      <th>CC</th>\n      <td>-0.505340</td>\n    </tr>\n    <tr>\n      <th>Difference</th>\n      <td>0.149608</td>\n    </tr>\n    <tr>\n      <th>GT</th>\n      <td>8.155863</td>\n    </tr>\n    <tr>\n      <th>RR</th>\n      <td>8.006255</td>\n    </tr>\n  </tbody>\n</table>\n<p>63720 rows × 1 columns</p>\n</div>"
     },
     "execution_count": 3,
     "metadata": {},
     "output_type": "execute_result"
    }
   ],
   "source": [
    "#Load all data into final dataframe and bring it to long format\n",
    "#How to access values:\n",
    "#final.loc[(study,participant,phases,extraction, estimation, sensor, measurement),:]\n",
    "#Multiindex parameter can be given as:\n",
    "#   single value: if for example only one participant is wanted\n",
    "#   list of values: if for example multiple participants are wanted\n",
    "#   slice(None): if all participants are wanted\n",
    "final = load_csvs()\n",
    "del final[\"Unnamed: 0\"]\n",
    "\n",
    "index_cols = [\n",
    "        \"Study\",\n",
    "        \"Participant\",\n",
    "        \"Phase\",\n",
    "        \"Extraction\",\n",
    "        \"Estimation\",\n",
    "        \"Sensor\",\n",
    "    ]\n",
    "\n",
    "final.reset_index(drop=True)\n",
    "final = final.set_index(index_cols)\n",
    "final.columns = pd.MultiIndex.from_product([[\"Values\"],final.columns])\n",
    "final = final.stack()\n",
    "#Rename column containing the values for evaluation\n",
    "final.index.rename({None:\"Measurement\"},inplace=True)\n",
    "final"
   ],
   "metadata": {
    "collapsed": false,
    "pycharm": {
     "name": "#%%\n"
    }
   }
  },
  {
   "cell_type": "code",
   "execution_count": 4,
   "outputs": [
    {
     "name": "stdout",
     "output_type": "stream",
     "text": [
      "<class 'pandas.core.frame.DataFrame'>\n",
      "                                                                                                              Values\n",
      "Study      Participant Phase             Extraction          Estimation           Sensor      Measurement           \n",
      "BA_Philipp 12          Baseline 3        ExtractionKarlen    PeakDetection        Biopac ECG  CC           -0.176658\n",
      "                                                                                              Difference   -6.569521\n",
      "                                                                                              GT           17.240002\n",
      "                                                                                              RR           23.809524\n",
      "                                                             PeakThroughDetection Biopac ECG  CC           -0.176658\n",
      "...                                                                                                              ...\n",
      "           5           Standing and rest SavGolExtractionAcc CountAdvDetection    NilsPod IMU RR            6.831571\n",
      "                                                             GradiantDetection    NilsPod IMU CC           -0.505340\n",
      "                                                                                              Difference    0.149608\n",
      "                                                                                              GT            8.155863\n",
      "                                                                                              RR            8.006255\n",
      "\n",
      "[63720 rows x 1 columns]\n",
      "MultiIndex([('BA_Philipp', 12,        'Baseline 3', ...),\n",
      "            ('BA_Philipp', 12,        'Baseline 3', ...),\n",
      "            ('BA_Philipp', 12,        'Baseline 3', ...),\n",
      "            ('BA_Philipp', 12,        'Baseline 3', ...),\n",
      "            ('BA_Philipp', 12,        'Baseline 3', ...),\n",
      "            ('BA_Philipp', 12,        'Baseline 3', ...),\n",
      "            ('BA_Philipp', 12,        'Baseline 3', ...),\n",
      "            ('BA_Philipp', 12,        'Baseline 3', ...),\n",
      "            ('BA_Philipp', 12,        'Baseline 3', ...),\n",
      "            ('BA_Philipp', 12,        'Baseline 3', ...),\n",
      "            ...\n",
      "            ('BA_Philipp',  5, 'Standing and rest', ...),\n",
      "            ('BA_Philipp',  5, 'Standing and rest', ...),\n",
      "            ('BA_Philipp',  5, 'Standing and rest', ...),\n",
      "            ('BA_Philipp',  5, 'Standing and rest', ...),\n",
      "            ('BA_Philipp',  5, 'Standing and rest', ...),\n",
      "            ('BA_Philipp',  5, 'Standing and rest', ...),\n",
      "            ('BA_Philipp',  5, 'Standing and rest', ...),\n",
      "            ('BA_Philipp',  5, 'Standing and rest', ...),\n",
      "            ('BA_Philipp',  5, 'Standing and rest', ...),\n",
      "            ('BA_Philipp',  5, 'Standing and rest', ...)],\n",
      "           names=['Study', 'Participant', 'Phase', 'Extraction', 'Estimation', 'Sensor', 'Measurement'], length=63720)\n"
     ]
    }
   ],
   "source": [
    "#Testing Final Data\n",
    "print(type(final))\n",
    "print(final)\n",
    "print(final.index)\n",
    "\n"
   ],
   "metadata": {
    "collapsed": false,
    "pycharm": {
     "name": "#%%\n"
    }
   }
  },
  {
   "cell_type": "markdown",
   "source": [
    "# Calculate Statistics\n"
   ],
   "metadata": {
    "collapsed": false,
    "pycharm": {
     "name": "#%% md\n"
    }
   }
  },
  {
   "cell_type": "code",
   "execution_count": 5,
   "outputs": [],
   "source": [
    "#Define Lists of Phases and Algorithms\n",
    "relevant_phases= [\n",
    "        #\"Initialization\",\n",
    "        \"Baseline 1\",\n",
    "        \"Speaking\",\n",
    "        \"Baseline 2\",\n",
    "        \"Standing and rest\",\n",
    "        \"Sitting and rest\",\n",
    "        \"4-7-8 breathing\",\n",
    "        \"Baseline 3\",\n",
    "        \"Metronome Breathing\",\n",
    "        \"Baseline 4\",\n",
    "        \"Inhalation and hold\",\n",
    "        \"Exhalation and hold\",\n",
    "        \"Hyperventilation\",\n",
    "    ]\n",
    "ecg_extractions = [\n",
    "    \"ExtractionKarlen\",\n",
    "    \"ExtractionCharlton\",\n",
    "    'ExtractionVangent2019',\n",
    "    \"ExtractionLindeberg\",\n",
    "    \"ExtractionSoni2019\",\n",
    "    \"ExtractionAddisonAM\",\n",
    "    \"ExtractionAddisonFM\",\n",
    "    \"ExtractionOrphandiou\",\n",
    "    \"ExtractionSarkar2015\",\n",
    "]\n",
    "imu_extractions = [\"PositionalVectorExtraction\", \"SavGolExtractionGyr\", \"SavGolExtractionAcc\"]\n",
    "estimations = [\n",
    "    \"PeakDetection\",\n",
    "    \"PeakThroughDetection\",\n",
    "    \"CountOrig\",\n",
    "    \"CountAdvDetection\",\n",
    "    \"GradiantDetection\",\n",
    "]\n",
    "fusion = [\"SmartFusion\"]\n"
   ],
   "metadata": {
    "collapsed": false,
    "pycharm": {
     "name": "#%%\n"
    }
   }
  },
  {
   "cell_type": "code",
   "execution_count": 6,
   "outputs": [
    {
     "name": "stdout",
     "output_type": "stream",
     "text": [
      "17.45229337567751 284.7516838799964\n"
     ]
    }
   ],
   "source": [
    "#Calculate Mean Value of Ground Truth and Estimated Respiration Rate\n",
    "# Mean ground truth respiration rate over all phases\n",
    "gt_rr_mean = final.loc[\"BA_Philipp\",:,relevant_phases,:,: ,:, \"GT\"][\"Values\"].mean()\n",
    "# Mean estimated respiratory rate\n",
    "estimated_rr_mean =  final.loc[\"BA_Philipp\",:,relevant_phases,:,: ,:, \"RR\"][\"Values\"].mean()\n",
    "print(gt_rr_mean,estimated_rr_mean)"
   ],
   "metadata": {
    "collapsed": false,
    "pycharm": {
     "name": "#%%\n"
    }
   }
  },
  {
   "cell_type": "code",
   "execution_count": 7,
   "outputs": [
    {
     "data": {
      "text/plain": "                                                                                                              Values\nStudy      Participant Phase            Extraction          Estimation           Sensor      Measurement            \nBA_Philipp 12          Baseline 1       ExtractionKarlen    PeakDetection        Biopac ECG  RR            20.113179\n                                                            PeakThroughDetection Biopac ECG  RR             3.409013\n                                                            CountOrig            Biopac ECG  RR            16.400081\n                                                            CountAdvDetection    Biopac ECG  RR            10.705001\n                                                            GradiantDetection    Biopac ECG  RR            39.473684\n...                                                                                                              ...\n           5           Hyperventilation SavGolExtractionAcc PeakDetection        NilsPod IMU RR           117.223725\n                                                            PeakThroughDetection NilsPod IMU RR             5.538129\n                                                            CountOrig            NilsPod IMU RR            21.037494\n                                                            CountAdvDetection    NilsPod IMU RR             9.983390\n                                                            GradiantDetection    NilsPod IMU RR            16.599424\n\n[15060 rows x 1 columns]",
      "text/html": "<div>\n<style scoped>\n    .dataframe tbody tr th:only-of-type {\n        vertical-align: middle;\n    }\n\n    .dataframe tbody tr th {\n        vertical-align: top;\n    }\n\n    .dataframe thead th {\n        text-align: right;\n    }\n</style>\n<table border=\"1\" class=\"dataframe\">\n  <thead>\n    <tr style=\"text-align: right;\">\n      <th></th>\n      <th></th>\n      <th></th>\n      <th></th>\n      <th></th>\n      <th></th>\n      <th></th>\n      <th>Values</th>\n    </tr>\n    <tr>\n      <th>Study</th>\n      <th>Participant</th>\n      <th>Phase</th>\n      <th>Extraction</th>\n      <th>Estimation</th>\n      <th>Sensor</th>\n      <th>Measurement</th>\n      <th></th>\n    </tr>\n  </thead>\n  <tbody>\n    <tr>\n      <th rowspan=\"11\" valign=\"top\">BA_Philipp</th>\n      <th rowspan=\"5\" valign=\"top\">12</th>\n      <th rowspan=\"5\" valign=\"top\">Baseline 1</th>\n      <th rowspan=\"5\" valign=\"top\">ExtractionKarlen</th>\n      <th>PeakDetection</th>\n      <th>Biopac ECG</th>\n      <th>RR</th>\n      <td>20.113179</td>\n    </tr>\n    <tr>\n      <th>PeakThroughDetection</th>\n      <th>Biopac ECG</th>\n      <th>RR</th>\n      <td>3.409013</td>\n    </tr>\n    <tr>\n      <th>CountOrig</th>\n      <th>Biopac ECG</th>\n      <th>RR</th>\n      <td>16.400081</td>\n    </tr>\n    <tr>\n      <th>CountAdvDetection</th>\n      <th>Biopac ECG</th>\n      <th>RR</th>\n      <td>10.705001</td>\n    </tr>\n    <tr>\n      <th>GradiantDetection</th>\n      <th>Biopac ECG</th>\n      <th>RR</th>\n      <td>39.473684</td>\n    </tr>\n    <tr>\n      <th>...</th>\n      <th>...</th>\n      <th>...</th>\n      <th>...</th>\n      <th>...</th>\n      <th>...</th>\n      <td>...</td>\n    </tr>\n    <tr>\n      <th rowspan=\"5\" valign=\"top\">5</th>\n      <th rowspan=\"5\" valign=\"top\">Hyperventilation</th>\n      <th rowspan=\"5\" valign=\"top\">SavGolExtractionAcc</th>\n      <th>PeakDetection</th>\n      <th>NilsPod IMU</th>\n      <th>RR</th>\n      <td>117.223725</td>\n    </tr>\n    <tr>\n      <th>PeakThroughDetection</th>\n      <th>NilsPod IMU</th>\n      <th>RR</th>\n      <td>5.538129</td>\n    </tr>\n    <tr>\n      <th>CountOrig</th>\n      <th>NilsPod IMU</th>\n      <th>RR</th>\n      <td>21.037494</td>\n    </tr>\n    <tr>\n      <th>CountAdvDetection</th>\n      <th>NilsPod IMU</th>\n      <th>RR</th>\n      <td>9.983390</td>\n    </tr>\n    <tr>\n      <th>GradiantDetection</th>\n      <th>NilsPod IMU</th>\n      <th>RR</th>\n      <td>16.599424</td>\n    </tr>\n  </tbody>\n</table>\n<p>15060 rows × 1 columns</p>\n</div>"
     },
     "execution_count": 7,
     "metadata": {},
     "output_type": "execute_result"
    }
   ],
   "source": [
    "#Select results from the relevant phases\n",
    "rrs = final.loc[\"BA_Philipp\",:,relevant_phases,:,:,:,\"RR\"]\n",
    "gts = final.loc[\"BA_Philipp\",:,relevant_phases,:,:,:,\"GT\"]\n",
    "differences = final.loc[\"BA_Philipp\",:,relevant_phases,:,:,:,\"Difference\"]\n",
    "ccs =final.loc[\"BA_Philipp\",:,relevant_phases,:,:,:,\"CC\"]\n",
    "rrs"
   ],
   "metadata": {
    "collapsed": false,
    "pycharm": {
     "name": "#%%\n"
    }
   }
  },
  {
   "cell_type": "code",
   "execution_count": 8,
   "outputs": [
    {
     "data": {
      "text/plain": "               Extraction            Estimation Correlation Mean  \\\n0        ExtractionKarlen         PeakDetection        -0.314353   \n1        ExtractionKarlen  PeakThroughDetection        -0.314353   \n2        ExtractionKarlen             CountOrig        -0.314353   \n3        ExtractionKarlen     CountAdvDetection        -0.314353   \n4        ExtractionKarlen     GradiantDetection        -0.314353   \n5      ExtractionCharlton         PeakDetection        -0.255496   \n6      ExtractionCharlton  PeakThroughDetection        -0.255496   \n7      ExtractionCharlton             CountOrig        -0.255496   \n8      ExtractionCharlton     CountAdvDetection        -0.255496   \n9      ExtractionCharlton     GradiantDetection        -0.255496   \n10  ExtractionVangent2019         PeakDetection         0.174967   \n11  ExtractionVangent2019  PeakThroughDetection         0.174967   \n12  ExtractionVangent2019             CountOrig         0.174967   \n13  ExtractionVangent2019     CountAdvDetection         0.174967   \n14  ExtractionVangent2019     GradiantDetection         0.174967   \n15    ExtractionLindeberg         PeakDetection         0.008123   \n16    ExtractionLindeberg  PeakThroughDetection         0.008123   \n17    ExtractionLindeberg             CountOrig         0.008123   \n18    ExtractionLindeberg     CountAdvDetection         0.008123   \n19    ExtractionLindeberg     GradiantDetection         0.008123   \n20     ExtractionSoni2019         PeakDetection         0.077238   \n21     ExtractionSoni2019  PeakThroughDetection         0.077238   \n22     ExtractionSoni2019             CountOrig         0.077238   \n23     ExtractionSoni2019     CountAdvDetection         0.077238   \n24     ExtractionSoni2019     GradiantDetection         0.077238   \n25    ExtractionAddisonAM         PeakDetection        -0.202851   \n26    ExtractionAddisonAM  PeakThroughDetection        -0.202851   \n27    ExtractionAddisonAM             CountOrig        -0.202851   \n28    ExtractionAddisonAM     CountAdvDetection        -0.202851   \n29    ExtractionAddisonAM     GradiantDetection        -0.202851   \n30    ExtractionAddisonFM         PeakDetection         0.048566   \n31    ExtractionAddisonFM  PeakThroughDetection         0.048566   \n32    ExtractionAddisonFM             CountOrig         0.048566   \n33    ExtractionAddisonFM     CountAdvDetection         0.048566   \n34    ExtractionAddisonFM     GradiantDetection         0.048566   \n35   ExtractionOrphandiou         PeakDetection        -0.267241   \n36   ExtractionOrphandiou  PeakThroughDetection        -0.267241   \n37   ExtractionOrphandiou             CountOrig        -0.267241   \n38   ExtractionOrphandiou     CountAdvDetection        -0.267241   \n39   ExtractionOrphandiou     GradiantDetection        -0.267241   \n40   ExtractionSarkar2015         PeakDetection         0.170362   \n41   ExtractionSarkar2015  PeakThroughDetection         0.170362   \n42   ExtractionSarkar2015             CountOrig         0.170362   \n43   ExtractionSarkar2015     CountAdvDetection         0.170362   \n44   ExtractionSarkar2015     GradiantDetection         0.170362   \n\n   Correlation STD RR Mean Absolute Error  \n0         0.249254                9.84998  \n1         0.249254                8.37099  \n2         0.249254               7.869668  \n3         0.249254                8.04716  \n4         0.249254               8.049854  \n5         0.225916              11.385997  \n6         0.225916               8.557275  \n7         0.225916               9.003326  \n8         0.225916               7.903433  \n9         0.225916               9.127045  \n10         0.22507               8.018071  \n11         0.22507              10.282571  \n12         0.22507               8.159637  \n13         0.22507               9.738027  \n14         0.22507              10.866124  \n15        0.253258              27.884567  \n16        0.253258              10.639258  \n17        0.253258               8.776838  \n18        0.253258               9.654608  \n19        0.253258              13.316477  \n20        0.269948               8.206364  \n21        0.269948              10.524512  \n22        0.269948               7.526957  \n23        0.269948               9.399044  \n24        0.269948              12.107589  \n25        0.341648              18.744934  \n26        0.341648              11.668878  \n27        0.341648               8.868236  \n28        0.341648               9.611468  \n29        0.341648              11.677441  \n30        0.231817           13902.387507  \n31        0.231817               11.03218  \n32        0.231817                8.65773  \n33        0.231817               9.618481  \n34        0.231817              62.227418  \n35        0.211825               8.069058  \n36        0.211825              10.033733  \n37        0.211825               7.750569  \n38        0.211825                 9.3227  \n39        0.211825              10.029961  \n40        0.218116              10.352067  \n41        0.218116              10.130162  \n42        0.218116                7.52776  \n43        0.218116               8.968984  \n44        0.218116              11.235589  ",
      "text/html": "<div>\n<style scoped>\n    .dataframe tbody tr th:only-of-type {\n        vertical-align: middle;\n    }\n\n    .dataframe tbody tr th {\n        vertical-align: top;\n    }\n\n    .dataframe thead th {\n        text-align: right;\n    }\n</style>\n<table border=\"1\" class=\"dataframe\">\n  <thead>\n    <tr style=\"text-align: right;\">\n      <th></th>\n      <th>Extraction</th>\n      <th>Estimation</th>\n      <th>Correlation Mean</th>\n      <th>Correlation STD</th>\n      <th>RR Mean Absolute Error</th>\n    </tr>\n  </thead>\n  <tbody>\n    <tr>\n      <th>0</th>\n      <td>ExtractionKarlen</td>\n      <td>PeakDetection</td>\n      <td>-0.314353</td>\n      <td>0.249254</td>\n      <td>9.84998</td>\n    </tr>\n    <tr>\n      <th>1</th>\n      <td>ExtractionKarlen</td>\n      <td>PeakThroughDetection</td>\n      <td>-0.314353</td>\n      <td>0.249254</td>\n      <td>8.37099</td>\n    </tr>\n    <tr>\n      <th>2</th>\n      <td>ExtractionKarlen</td>\n      <td>CountOrig</td>\n      <td>-0.314353</td>\n      <td>0.249254</td>\n      <td>7.869668</td>\n    </tr>\n    <tr>\n      <th>3</th>\n      <td>ExtractionKarlen</td>\n      <td>CountAdvDetection</td>\n      <td>-0.314353</td>\n      <td>0.249254</td>\n      <td>8.04716</td>\n    </tr>\n    <tr>\n      <th>4</th>\n      <td>ExtractionKarlen</td>\n      <td>GradiantDetection</td>\n      <td>-0.314353</td>\n      <td>0.249254</td>\n      <td>8.049854</td>\n    </tr>\n    <tr>\n      <th>5</th>\n      <td>ExtractionCharlton</td>\n      <td>PeakDetection</td>\n      <td>-0.255496</td>\n      <td>0.225916</td>\n      <td>11.385997</td>\n    </tr>\n    <tr>\n      <th>6</th>\n      <td>ExtractionCharlton</td>\n      <td>PeakThroughDetection</td>\n      <td>-0.255496</td>\n      <td>0.225916</td>\n      <td>8.557275</td>\n    </tr>\n    <tr>\n      <th>7</th>\n      <td>ExtractionCharlton</td>\n      <td>CountOrig</td>\n      <td>-0.255496</td>\n      <td>0.225916</td>\n      <td>9.003326</td>\n    </tr>\n    <tr>\n      <th>8</th>\n      <td>ExtractionCharlton</td>\n      <td>CountAdvDetection</td>\n      <td>-0.255496</td>\n      <td>0.225916</td>\n      <td>7.903433</td>\n    </tr>\n    <tr>\n      <th>9</th>\n      <td>ExtractionCharlton</td>\n      <td>GradiantDetection</td>\n      <td>-0.255496</td>\n      <td>0.225916</td>\n      <td>9.127045</td>\n    </tr>\n    <tr>\n      <th>10</th>\n      <td>ExtractionVangent2019</td>\n      <td>PeakDetection</td>\n      <td>0.174967</td>\n      <td>0.22507</td>\n      <td>8.018071</td>\n    </tr>\n    <tr>\n      <th>11</th>\n      <td>ExtractionVangent2019</td>\n      <td>PeakThroughDetection</td>\n      <td>0.174967</td>\n      <td>0.22507</td>\n      <td>10.282571</td>\n    </tr>\n    <tr>\n      <th>12</th>\n      <td>ExtractionVangent2019</td>\n      <td>CountOrig</td>\n      <td>0.174967</td>\n      <td>0.22507</td>\n      <td>8.159637</td>\n    </tr>\n    <tr>\n      <th>13</th>\n      <td>ExtractionVangent2019</td>\n      <td>CountAdvDetection</td>\n      <td>0.174967</td>\n      <td>0.22507</td>\n      <td>9.738027</td>\n    </tr>\n    <tr>\n      <th>14</th>\n      <td>ExtractionVangent2019</td>\n      <td>GradiantDetection</td>\n      <td>0.174967</td>\n      <td>0.22507</td>\n      <td>10.866124</td>\n    </tr>\n    <tr>\n      <th>15</th>\n      <td>ExtractionLindeberg</td>\n      <td>PeakDetection</td>\n      <td>0.008123</td>\n      <td>0.253258</td>\n      <td>27.884567</td>\n    </tr>\n    <tr>\n      <th>16</th>\n      <td>ExtractionLindeberg</td>\n      <td>PeakThroughDetection</td>\n      <td>0.008123</td>\n      <td>0.253258</td>\n      <td>10.639258</td>\n    </tr>\n    <tr>\n      <th>17</th>\n      <td>ExtractionLindeberg</td>\n      <td>CountOrig</td>\n      <td>0.008123</td>\n      <td>0.253258</td>\n      <td>8.776838</td>\n    </tr>\n    <tr>\n      <th>18</th>\n      <td>ExtractionLindeberg</td>\n      <td>CountAdvDetection</td>\n      <td>0.008123</td>\n      <td>0.253258</td>\n      <td>9.654608</td>\n    </tr>\n    <tr>\n      <th>19</th>\n      <td>ExtractionLindeberg</td>\n      <td>GradiantDetection</td>\n      <td>0.008123</td>\n      <td>0.253258</td>\n      <td>13.316477</td>\n    </tr>\n    <tr>\n      <th>20</th>\n      <td>ExtractionSoni2019</td>\n      <td>PeakDetection</td>\n      <td>0.077238</td>\n      <td>0.269948</td>\n      <td>8.206364</td>\n    </tr>\n    <tr>\n      <th>21</th>\n      <td>ExtractionSoni2019</td>\n      <td>PeakThroughDetection</td>\n      <td>0.077238</td>\n      <td>0.269948</td>\n      <td>10.524512</td>\n    </tr>\n    <tr>\n      <th>22</th>\n      <td>ExtractionSoni2019</td>\n      <td>CountOrig</td>\n      <td>0.077238</td>\n      <td>0.269948</td>\n      <td>7.526957</td>\n    </tr>\n    <tr>\n      <th>23</th>\n      <td>ExtractionSoni2019</td>\n      <td>CountAdvDetection</td>\n      <td>0.077238</td>\n      <td>0.269948</td>\n      <td>9.399044</td>\n    </tr>\n    <tr>\n      <th>24</th>\n      <td>ExtractionSoni2019</td>\n      <td>GradiantDetection</td>\n      <td>0.077238</td>\n      <td>0.269948</td>\n      <td>12.107589</td>\n    </tr>\n    <tr>\n      <th>25</th>\n      <td>ExtractionAddisonAM</td>\n      <td>PeakDetection</td>\n      <td>-0.202851</td>\n      <td>0.341648</td>\n      <td>18.744934</td>\n    </tr>\n    <tr>\n      <th>26</th>\n      <td>ExtractionAddisonAM</td>\n      <td>PeakThroughDetection</td>\n      <td>-0.202851</td>\n      <td>0.341648</td>\n      <td>11.668878</td>\n    </tr>\n    <tr>\n      <th>27</th>\n      <td>ExtractionAddisonAM</td>\n      <td>CountOrig</td>\n      <td>-0.202851</td>\n      <td>0.341648</td>\n      <td>8.868236</td>\n    </tr>\n    <tr>\n      <th>28</th>\n      <td>ExtractionAddisonAM</td>\n      <td>CountAdvDetection</td>\n      <td>-0.202851</td>\n      <td>0.341648</td>\n      <td>9.611468</td>\n    </tr>\n    <tr>\n      <th>29</th>\n      <td>ExtractionAddisonAM</td>\n      <td>GradiantDetection</td>\n      <td>-0.202851</td>\n      <td>0.341648</td>\n      <td>11.677441</td>\n    </tr>\n    <tr>\n      <th>30</th>\n      <td>ExtractionAddisonFM</td>\n      <td>PeakDetection</td>\n      <td>0.048566</td>\n      <td>0.231817</td>\n      <td>13902.387507</td>\n    </tr>\n    <tr>\n      <th>31</th>\n      <td>ExtractionAddisonFM</td>\n      <td>PeakThroughDetection</td>\n      <td>0.048566</td>\n      <td>0.231817</td>\n      <td>11.03218</td>\n    </tr>\n    <tr>\n      <th>32</th>\n      <td>ExtractionAddisonFM</td>\n      <td>CountOrig</td>\n      <td>0.048566</td>\n      <td>0.231817</td>\n      <td>8.65773</td>\n    </tr>\n    <tr>\n      <th>33</th>\n      <td>ExtractionAddisonFM</td>\n      <td>CountAdvDetection</td>\n      <td>0.048566</td>\n      <td>0.231817</td>\n      <td>9.618481</td>\n    </tr>\n    <tr>\n      <th>34</th>\n      <td>ExtractionAddisonFM</td>\n      <td>GradiantDetection</td>\n      <td>0.048566</td>\n      <td>0.231817</td>\n      <td>62.227418</td>\n    </tr>\n    <tr>\n      <th>35</th>\n      <td>ExtractionOrphandiou</td>\n      <td>PeakDetection</td>\n      <td>-0.267241</td>\n      <td>0.211825</td>\n      <td>8.069058</td>\n    </tr>\n    <tr>\n      <th>36</th>\n      <td>ExtractionOrphandiou</td>\n      <td>PeakThroughDetection</td>\n      <td>-0.267241</td>\n      <td>0.211825</td>\n      <td>10.033733</td>\n    </tr>\n    <tr>\n      <th>37</th>\n      <td>ExtractionOrphandiou</td>\n      <td>CountOrig</td>\n      <td>-0.267241</td>\n      <td>0.211825</td>\n      <td>7.750569</td>\n    </tr>\n    <tr>\n      <th>38</th>\n      <td>ExtractionOrphandiou</td>\n      <td>CountAdvDetection</td>\n      <td>-0.267241</td>\n      <td>0.211825</td>\n      <td>9.3227</td>\n    </tr>\n    <tr>\n      <th>39</th>\n      <td>ExtractionOrphandiou</td>\n      <td>GradiantDetection</td>\n      <td>-0.267241</td>\n      <td>0.211825</td>\n      <td>10.029961</td>\n    </tr>\n    <tr>\n      <th>40</th>\n      <td>ExtractionSarkar2015</td>\n      <td>PeakDetection</td>\n      <td>0.170362</td>\n      <td>0.218116</td>\n      <td>10.352067</td>\n    </tr>\n    <tr>\n      <th>41</th>\n      <td>ExtractionSarkar2015</td>\n      <td>PeakThroughDetection</td>\n      <td>0.170362</td>\n      <td>0.218116</td>\n      <td>10.130162</td>\n    </tr>\n    <tr>\n      <th>42</th>\n      <td>ExtractionSarkar2015</td>\n      <td>CountOrig</td>\n      <td>0.170362</td>\n      <td>0.218116</td>\n      <td>7.52776</td>\n    </tr>\n    <tr>\n      <th>43</th>\n      <td>ExtractionSarkar2015</td>\n      <td>CountAdvDetection</td>\n      <td>0.170362</td>\n      <td>0.218116</td>\n      <td>8.968984</td>\n    </tr>\n    <tr>\n      <th>44</th>\n      <td>ExtractionSarkar2015</td>\n      <td>GradiantDetection</td>\n      <td>0.170362</td>\n      <td>0.218116</td>\n      <td>11.235589</td>\n    </tr>\n  </tbody>\n</table>\n</div>"
     },
     "execution_count": 8,
     "metadata": {},
     "output_type": "execute_result"
    }
   ],
   "source": [
    "# BioPac Results\n",
    "result_dataframe_wide = pd.DataFrame(\n",
    "    columns=[\n",
    "        \"Extraction\",\n",
    "        \"Estimation\",\n",
    "        \"Correlation Mean\",\n",
    "        \"Correlation STD\",\n",
    "        \"RR Mean Absolute Error\",\n",
    "    ]\n",
    ")\n",
    "for extraction in ecg_extractions:\n",
    "    for estimation in estimations:\n",
    "        biopac_differences = differences.loc[:,:,:,extraction,estimation,\"Biopac ECG\",:][\"Values\"]\n",
    "        biopac_ccs = ccs.loc[:,:,:,extraction,estimation,\"Biopac ECG\",:][\"Values\"]\n",
    "        # Mean absolute Error\n",
    "        algorithm_mean_error = abs(biopac_differences).mean()\n",
    "        # Mean Coefficients with STD\n",
    "        algorithm_cc_mean= biopac_ccs.mean()\n",
    "        algorithm_cc_std=biopac_ccs.std()\n",
    "\n",
    "        row_dict = {\n",
    "            \"Extraction\": extraction,\n",
    "            \"Estimation\": estimation,\n",
    "            \"Correlation Mean\": algorithm_cc_mean,\n",
    "            \"Correlation STD\":algorithm_cc_std,\n",
    "            \"RR Mean Absolute Error\": algorithm_mean_error\n",
    "        }\n",
    "        append = pd.DataFrame(row_dict,index=[0])\n",
    "        result_dataframe_wide = pd.concat(\n",
    "                [result_dataframe_wide, append], ignore_index=True\n",
    "        )\n",
    "biopac_results = result_dataframe_wide\n",
    "biopac_results"
   ],
   "metadata": {
    "collapsed": false,
    "pycharm": {
     "name": "#%%\n"
    }
   }
  },
  {
   "cell_type": "code",
   "execution_count": 9,
   "outputs": [
    {
     "data": {
      "text/plain": "               Extraction            Estimation Correlation Mean  \\\n0        ExtractionKarlen         PeakDetection         0.038645   \n1        ExtractionKarlen  PeakThroughDetection         0.038645   \n2        ExtractionKarlen             CountOrig         0.038645   \n3        ExtractionKarlen     CountAdvDetection         0.038645   \n4        ExtractionKarlen     GradiantDetection         0.038645   \n5      ExtractionCharlton         PeakDetection         0.077111   \n6      ExtractionCharlton  PeakThroughDetection         0.077111   \n7      ExtractionCharlton             CountOrig         0.077111   \n8      ExtractionCharlton     CountAdvDetection         0.077111   \n9      ExtractionCharlton     GradiantDetection         0.077111   \n10  ExtractionVangent2019         PeakDetection         0.238947   \n11  ExtractionVangent2019  PeakThroughDetection         0.238947   \n12  ExtractionVangent2019             CountOrig         0.238947   \n13  ExtractionVangent2019     CountAdvDetection         0.238947   \n14  ExtractionVangent2019     GradiantDetection         0.238947   \n15    ExtractionLindeberg         PeakDetection         0.023038   \n16    ExtractionLindeberg  PeakThroughDetection         0.023038   \n17    ExtractionLindeberg             CountOrig         0.023038   \n18    ExtractionLindeberg     CountAdvDetection         0.023038   \n19    ExtractionLindeberg     GradiantDetection         0.023038   \n20     ExtractionSoni2019         PeakDetection         0.135313   \n21     ExtractionSoni2019  PeakThroughDetection         0.135313   \n22     ExtractionSoni2019             CountOrig         0.135313   \n23     ExtractionSoni2019     CountAdvDetection         0.135313   \n24     ExtractionSoni2019     GradiantDetection         0.135313   \n25    ExtractionAddisonAM         PeakDetection         0.100711   \n26    ExtractionAddisonAM  PeakThroughDetection         0.100711   \n27    ExtractionAddisonAM             CountOrig         0.100711   \n28    ExtractionAddisonAM     CountAdvDetection         0.100711   \n29    ExtractionAddisonAM     GradiantDetection         0.100711   \n30    ExtractionAddisonFM         PeakDetection          0.10008   \n31    ExtractionAddisonFM  PeakThroughDetection          0.10008   \n32    ExtractionAddisonFM             CountOrig          0.10008   \n33    ExtractionAddisonFM     CountAdvDetection          0.10008   \n34    ExtractionAddisonFM     GradiantDetection          0.10008   \n35   ExtractionOrphandiou         PeakDetection        -0.231741   \n36   ExtractionOrphandiou  PeakThroughDetection        -0.231741   \n37   ExtractionOrphandiou             CountOrig        -0.231741   \n38   ExtractionOrphandiou     CountAdvDetection        -0.231741   \n39   ExtractionOrphandiou     GradiantDetection        -0.231741   \n40   ExtractionSarkar2015         PeakDetection         0.237675   \n41   ExtractionSarkar2015  PeakThroughDetection         0.237675   \n42   ExtractionSarkar2015             CountOrig         0.237675   \n43   ExtractionSarkar2015     CountAdvDetection         0.237675   \n44   ExtractionSarkar2015     GradiantDetection         0.237675   \n\n   Correlation STD RR Mean Absolute Error  \n0          0.33661                9.17467  \n1          0.33661               8.456003  \n2          0.33661               7.777508  \n3          0.33661               8.265588  \n4          0.33661               9.164712  \n5         0.304684               9.057889  \n6         0.304684               8.463781  \n7         0.304684                7.57107  \n8         0.304684                8.28529  \n9         0.304684               8.652321  \n10        0.252733               8.009535  \n11        0.252733              10.559157  \n12        0.252733               8.172626  \n13        0.252733                9.44772  \n14        0.252733               9.215795  \n15        0.127357              36.902604  \n16        0.127357              13.195909  \n17        0.127357              11.508222  \n18        0.127357               9.118871  \n19        0.127357              23.558622  \n20        0.280403               7.859076  \n21        0.280403              11.038163  \n22        0.280403                 7.7197  \n23        0.280403               9.439697  \n24        0.280403              11.894221  \n25        0.271926               25.50224  \n26        0.271926              14.686988  \n27        0.271926               8.717575  \n28        0.271926               9.627963  \n29        0.271926              16.794699  \n30        0.233269           14247.765421  \n31        0.233269              11.261452  \n32        0.233269               8.305268  \n33        0.233269               9.631345  \n34        0.233269               50.02592  \n35        0.225761               8.140228  \n36        0.225761               9.672455  \n37        0.225761               7.786824  \n38        0.225761               9.253925  \n39        0.225761               8.981982  \n40        0.250795               9.564632  \n41        0.250795              10.569465  \n42        0.250795               7.656179  \n43        0.250795               9.279574  \n44        0.250795               8.726912  ",
      "text/html": "<div>\n<style scoped>\n    .dataframe tbody tr th:only-of-type {\n        vertical-align: middle;\n    }\n\n    .dataframe tbody tr th {\n        vertical-align: top;\n    }\n\n    .dataframe thead th {\n        text-align: right;\n    }\n</style>\n<table border=\"1\" class=\"dataframe\">\n  <thead>\n    <tr style=\"text-align: right;\">\n      <th></th>\n      <th>Extraction</th>\n      <th>Estimation</th>\n      <th>Correlation Mean</th>\n      <th>Correlation STD</th>\n      <th>RR Mean Absolute Error</th>\n    </tr>\n  </thead>\n  <tbody>\n    <tr>\n      <th>0</th>\n      <td>ExtractionKarlen</td>\n      <td>PeakDetection</td>\n      <td>0.038645</td>\n      <td>0.33661</td>\n      <td>9.17467</td>\n    </tr>\n    <tr>\n      <th>1</th>\n      <td>ExtractionKarlen</td>\n      <td>PeakThroughDetection</td>\n      <td>0.038645</td>\n      <td>0.33661</td>\n      <td>8.456003</td>\n    </tr>\n    <tr>\n      <th>2</th>\n      <td>ExtractionKarlen</td>\n      <td>CountOrig</td>\n      <td>0.038645</td>\n      <td>0.33661</td>\n      <td>7.777508</td>\n    </tr>\n    <tr>\n      <th>3</th>\n      <td>ExtractionKarlen</td>\n      <td>CountAdvDetection</td>\n      <td>0.038645</td>\n      <td>0.33661</td>\n      <td>8.265588</td>\n    </tr>\n    <tr>\n      <th>4</th>\n      <td>ExtractionKarlen</td>\n      <td>GradiantDetection</td>\n      <td>0.038645</td>\n      <td>0.33661</td>\n      <td>9.164712</td>\n    </tr>\n    <tr>\n      <th>5</th>\n      <td>ExtractionCharlton</td>\n      <td>PeakDetection</td>\n      <td>0.077111</td>\n      <td>0.304684</td>\n      <td>9.057889</td>\n    </tr>\n    <tr>\n      <th>6</th>\n      <td>ExtractionCharlton</td>\n      <td>PeakThroughDetection</td>\n      <td>0.077111</td>\n      <td>0.304684</td>\n      <td>8.463781</td>\n    </tr>\n    <tr>\n      <th>7</th>\n      <td>ExtractionCharlton</td>\n      <td>CountOrig</td>\n      <td>0.077111</td>\n      <td>0.304684</td>\n      <td>7.57107</td>\n    </tr>\n    <tr>\n      <th>8</th>\n      <td>ExtractionCharlton</td>\n      <td>CountAdvDetection</td>\n      <td>0.077111</td>\n      <td>0.304684</td>\n      <td>8.28529</td>\n    </tr>\n    <tr>\n      <th>9</th>\n      <td>ExtractionCharlton</td>\n      <td>GradiantDetection</td>\n      <td>0.077111</td>\n      <td>0.304684</td>\n      <td>8.652321</td>\n    </tr>\n    <tr>\n      <th>10</th>\n      <td>ExtractionVangent2019</td>\n      <td>PeakDetection</td>\n      <td>0.238947</td>\n      <td>0.252733</td>\n      <td>8.009535</td>\n    </tr>\n    <tr>\n      <th>11</th>\n      <td>ExtractionVangent2019</td>\n      <td>PeakThroughDetection</td>\n      <td>0.238947</td>\n      <td>0.252733</td>\n      <td>10.559157</td>\n    </tr>\n    <tr>\n      <th>12</th>\n      <td>ExtractionVangent2019</td>\n      <td>CountOrig</td>\n      <td>0.238947</td>\n      <td>0.252733</td>\n      <td>8.172626</td>\n    </tr>\n    <tr>\n      <th>13</th>\n      <td>ExtractionVangent2019</td>\n      <td>CountAdvDetection</td>\n      <td>0.238947</td>\n      <td>0.252733</td>\n      <td>9.44772</td>\n    </tr>\n    <tr>\n      <th>14</th>\n      <td>ExtractionVangent2019</td>\n      <td>GradiantDetection</td>\n      <td>0.238947</td>\n      <td>0.252733</td>\n      <td>9.215795</td>\n    </tr>\n    <tr>\n      <th>15</th>\n      <td>ExtractionLindeberg</td>\n      <td>PeakDetection</td>\n      <td>0.023038</td>\n      <td>0.127357</td>\n      <td>36.902604</td>\n    </tr>\n    <tr>\n      <th>16</th>\n      <td>ExtractionLindeberg</td>\n      <td>PeakThroughDetection</td>\n      <td>0.023038</td>\n      <td>0.127357</td>\n      <td>13.195909</td>\n    </tr>\n    <tr>\n      <th>17</th>\n      <td>ExtractionLindeberg</td>\n      <td>CountOrig</td>\n      <td>0.023038</td>\n      <td>0.127357</td>\n      <td>11.508222</td>\n    </tr>\n    <tr>\n      <th>18</th>\n      <td>ExtractionLindeberg</td>\n      <td>CountAdvDetection</td>\n      <td>0.023038</td>\n      <td>0.127357</td>\n      <td>9.118871</td>\n    </tr>\n    <tr>\n      <th>19</th>\n      <td>ExtractionLindeberg</td>\n      <td>GradiantDetection</td>\n      <td>0.023038</td>\n      <td>0.127357</td>\n      <td>23.558622</td>\n    </tr>\n    <tr>\n      <th>20</th>\n      <td>ExtractionSoni2019</td>\n      <td>PeakDetection</td>\n      <td>0.135313</td>\n      <td>0.280403</td>\n      <td>7.859076</td>\n    </tr>\n    <tr>\n      <th>21</th>\n      <td>ExtractionSoni2019</td>\n      <td>PeakThroughDetection</td>\n      <td>0.135313</td>\n      <td>0.280403</td>\n      <td>11.038163</td>\n    </tr>\n    <tr>\n      <th>22</th>\n      <td>ExtractionSoni2019</td>\n      <td>CountOrig</td>\n      <td>0.135313</td>\n      <td>0.280403</td>\n      <td>7.7197</td>\n    </tr>\n    <tr>\n      <th>23</th>\n      <td>ExtractionSoni2019</td>\n      <td>CountAdvDetection</td>\n      <td>0.135313</td>\n      <td>0.280403</td>\n      <td>9.439697</td>\n    </tr>\n    <tr>\n      <th>24</th>\n      <td>ExtractionSoni2019</td>\n      <td>GradiantDetection</td>\n      <td>0.135313</td>\n      <td>0.280403</td>\n      <td>11.894221</td>\n    </tr>\n    <tr>\n      <th>25</th>\n      <td>ExtractionAddisonAM</td>\n      <td>PeakDetection</td>\n      <td>0.100711</td>\n      <td>0.271926</td>\n      <td>25.50224</td>\n    </tr>\n    <tr>\n      <th>26</th>\n      <td>ExtractionAddisonAM</td>\n      <td>PeakThroughDetection</td>\n      <td>0.100711</td>\n      <td>0.271926</td>\n      <td>14.686988</td>\n    </tr>\n    <tr>\n      <th>27</th>\n      <td>ExtractionAddisonAM</td>\n      <td>CountOrig</td>\n      <td>0.100711</td>\n      <td>0.271926</td>\n      <td>8.717575</td>\n    </tr>\n    <tr>\n      <th>28</th>\n      <td>ExtractionAddisonAM</td>\n      <td>CountAdvDetection</td>\n      <td>0.100711</td>\n      <td>0.271926</td>\n      <td>9.627963</td>\n    </tr>\n    <tr>\n      <th>29</th>\n      <td>ExtractionAddisonAM</td>\n      <td>GradiantDetection</td>\n      <td>0.100711</td>\n      <td>0.271926</td>\n      <td>16.794699</td>\n    </tr>\n    <tr>\n      <th>30</th>\n      <td>ExtractionAddisonFM</td>\n      <td>PeakDetection</td>\n      <td>0.10008</td>\n      <td>0.233269</td>\n      <td>14247.765421</td>\n    </tr>\n    <tr>\n      <th>31</th>\n      <td>ExtractionAddisonFM</td>\n      <td>PeakThroughDetection</td>\n      <td>0.10008</td>\n      <td>0.233269</td>\n      <td>11.261452</td>\n    </tr>\n    <tr>\n      <th>32</th>\n      <td>ExtractionAddisonFM</td>\n      <td>CountOrig</td>\n      <td>0.10008</td>\n      <td>0.233269</td>\n      <td>8.305268</td>\n    </tr>\n    <tr>\n      <th>33</th>\n      <td>ExtractionAddisonFM</td>\n      <td>CountAdvDetection</td>\n      <td>0.10008</td>\n      <td>0.233269</td>\n      <td>9.631345</td>\n    </tr>\n    <tr>\n      <th>34</th>\n      <td>ExtractionAddisonFM</td>\n      <td>GradiantDetection</td>\n      <td>0.10008</td>\n      <td>0.233269</td>\n      <td>50.02592</td>\n    </tr>\n    <tr>\n      <th>35</th>\n      <td>ExtractionOrphandiou</td>\n      <td>PeakDetection</td>\n      <td>-0.231741</td>\n      <td>0.225761</td>\n      <td>8.140228</td>\n    </tr>\n    <tr>\n      <th>36</th>\n      <td>ExtractionOrphandiou</td>\n      <td>PeakThroughDetection</td>\n      <td>-0.231741</td>\n      <td>0.225761</td>\n      <td>9.672455</td>\n    </tr>\n    <tr>\n      <th>37</th>\n      <td>ExtractionOrphandiou</td>\n      <td>CountOrig</td>\n      <td>-0.231741</td>\n      <td>0.225761</td>\n      <td>7.786824</td>\n    </tr>\n    <tr>\n      <th>38</th>\n      <td>ExtractionOrphandiou</td>\n      <td>CountAdvDetection</td>\n      <td>-0.231741</td>\n      <td>0.225761</td>\n      <td>9.253925</td>\n    </tr>\n    <tr>\n      <th>39</th>\n      <td>ExtractionOrphandiou</td>\n      <td>GradiantDetection</td>\n      <td>-0.231741</td>\n      <td>0.225761</td>\n      <td>8.981982</td>\n    </tr>\n    <tr>\n      <th>40</th>\n      <td>ExtractionSarkar2015</td>\n      <td>PeakDetection</td>\n      <td>0.237675</td>\n      <td>0.250795</td>\n      <td>9.564632</td>\n    </tr>\n    <tr>\n      <th>41</th>\n      <td>ExtractionSarkar2015</td>\n      <td>PeakThroughDetection</td>\n      <td>0.237675</td>\n      <td>0.250795</td>\n      <td>10.569465</td>\n    </tr>\n    <tr>\n      <th>42</th>\n      <td>ExtractionSarkar2015</td>\n      <td>CountOrig</td>\n      <td>0.237675</td>\n      <td>0.250795</td>\n      <td>7.656179</td>\n    </tr>\n    <tr>\n      <th>43</th>\n      <td>ExtractionSarkar2015</td>\n      <td>CountAdvDetection</td>\n      <td>0.237675</td>\n      <td>0.250795</td>\n      <td>9.279574</td>\n    </tr>\n    <tr>\n      <th>44</th>\n      <td>ExtractionSarkar2015</td>\n      <td>GradiantDetection</td>\n      <td>0.237675</td>\n      <td>0.250795</td>\n      <td>8.726912</td>\n    </tr>\n  </tbody>\n</table>\n</div>"
     },
     "execution_count": 9,
     "metadata": {},
     "output_type": "execute_result"
    }
   ],
   "source": [
    "#Create NilsPod ECG Results\n",
    "result_dataframe_wide = pd.DataFrame(\n",
    "    columns=[\n",
    "        \"Extraction\",\n",
    "        \"Estimation\",\n",
    "        \"Correlation Mean\",\n",
    "        \"Correlation STD\",\n",
    "        \"RR Mean Absolute Error\",\n",
    "    ]\n",
    ")\n",
    "\n",
    "for extraction in ecg_extractions:\n",
    "    for estimation in estimations:\n",
    "        nils_differences = differences.loc[:,:,:,extraction,estimation,\"NilsPod ECG\",:][\"Values\"]\n",
    "        nils_ccs = ccs.loc[:,:,:,extraction,estimation,\"NilsPod ECG\",:][\"Values\"]\n",
    "        # Mean absolute Error\n",
    "        algorithm_mean_error = abs(nils_differences).mean()\n",
    "        # Mean CC\n",
    "        algorithm_cc_mean= nils_ccs.mean()\n",
    "        algorithm_cc_std = nils_ccs.std()\n",
    "\n",
    "        row_dict = {\n",
    "            \"Extraction\": extraction,\n",
    "            \"Estimation\": estimation,\n",
    "            \"Correlation Mean\": algorithm_cc_mean,\n",
    "            \"Correlation STD\":algorithm_cc_std,\n",
    "            \"RR Mean Absolute Error\": algorithm_mean_error\n",
    "        }\n",
    "        append = pd.DataFrame(row_dict,index=[0])\n",
    "        result_dataframe_wide = pd.concat(\n",
    "                [result_dataframe_wide, append], ignore_index=True\n",
    "        )\n",
    "\n",
    "nilspod_ecg_results = result_dataframe_wide\n",
    "nilspod_ecg_results"
   ],
   "metadata": {
    "collapsed": false,
    "pycharm": {
     "name": "#%%\n"
    }
   }
  },
  {
   "cell_type": "code",
   "execution_count": 10,
   "outputs": [
    {
     "data": {
      "text/plain": "                    Extraction            Estimation Correlation Mean  \\\n0   PositionalVectorExtraction         PeakDetection         0.024278   \n1   PositionalVectorExtraction  PeakThroughDetection         0.024278   \n2   PositionalVectorExtraction             CountOrig         0.024278   \n3   PositionalVectorExtraction     CountAdvDetection         0.024278   \n4   PositionalVectorExtraction     GradiantDetection         0.024278   \n5          SavGolExtractionGyr         PeakDetection         -0.08638   \n6          SavGolExtractionGyr  PeakThroughDetection         -0.08638   \n7          SavGolExtractionGyr             CountOrig         -0.08638   \n8          SavGolExtractionGyr     CountAdvDetection         -0.08638   \n9          SavGolExtractionGyr     GradiantDetection         -0.08638   \n10         SavGolExtractionAcc         PeakDetection        -0.011636   \n11         SavGolExtractionAcc  PeakThroughDetection        -0.011636   \n12         SavGolExtractionAcc             CountOrig        -0.011636   \n13         SavGolExtractionAcc     CountAdvDetection        -0.011636   \n14         SavGolExtractionAcc     GradiantDetection        -0.011636   \n\n   Correlation STD RR Mean Absolute Error  \n0         0.304966              52.313423  \n1         0.304966              11.643594  \n2         0.304966               8.357204  \n3         0.304966               9.057994  \n4         0.304966              11.808556  \n5         0.186025              47.143896  \n6         0.186025              11.176994  \n7         0.186025              11.055842  \n8         0.186025               8.748673  \n9         0.186025              14.851874  \n10        0.300117              76.838792  \n11        0.300117              10.438534  \n12        0.300117               9.045418  \n13        0.300117               8.705614  \n14        0.300117               12.14389  ",
      "text/html": "<div>\n<style scoped>\n    .dataframe tbody tr th:only-of-type {\n        vertical-align: middle;\n    }\n\n    .dataframe tbody tr th {\n        vertical-align: top;\n    }\n\n    .dataframe thead th {\n        text-align: right;\n    }\n</style>\n<table border=\"1\" class=\"dataframe\">\n  <thead>\n    <tr style=\"text-align: right;\">\n      <th></th>\n      <th>Extraction</th>\n      <th>Estimation</th>\n      <th>Correlation Mean</th>\n      <th>Correlation STD</th>\n      <th>RR Mean Absolute Error</th>\n    </tr>\n  </thead>\n  <tbody>\n    <tr>\n      <th>0</th>\n      <td>PositionalVectorExtraction</td>\n      <td>PeakDetection</td>\n      <td>0.024278</td>\n      <td>0.304966</td>\n      <td>52.313423</td>\n    </tr>\n    <tr>\n      <th>1</th>\n      <td>PositionalVectorExtraction</td>\n      <td>PeakThroughDetection</td>\n      <td>0.024278</td>\n      <td>0.304966</td>\n      <td>11.643594</td>\n    </tr>\n    <tr>\n      <th>2</th>\n      <td>PositionalVectorExtraction</td>\n      <td>CountOrig</td>\n      <td>0.024278</td>\n      <td>0.304966</td>\n      <td>8.357204</td>\n    </tr>\n    <tr>\n      <th>3</th>\n      <td>PositionalVectorExtraction</td>\n      <td>CountAdvDetection</td>\n      <td>0.024278</td>\n      <td>0.304966</td>\n      <td>9.057994</td>\n    </tr>\n    <tr>\n      <th>4</th>\n      <td>PositionalVectorExtraction</td>\n      <td>GradiantDetection</td>\n      <td>0.024278</td>\n      <td>0.304966</td>\n      <td>11.808556</td>\n    </tr>\n    <tr>\n      <th>5</th>\n      <td>SavGolExtractionGyr</td>\n      <td>PeakDetection</td>\n      <td>-0.08638</td>\n      <td>0.186025</td>\n      <td>47.143896</td>\n    </tr>\n    <tr>\n      <th>6</th>\n      <td>SavGolExtractionGyr</td>\n      <td>PeakThroughDetection</td>\n      <td>-0.08638</td>\n      <td>0.186025</td>\n      <td>11.176994</td>\n    </tr>\n    <tr>\n      <th>7</th>\n      <td>SavGolExtractionGyr</td>\n      <td>CountOrig</td>\n      <td>-0.08638</td>\n      <td>0.186025</td>\n      <td>11.055842</td>\n    </tr>\n    <tr>\n      <th>8</th>\n      <td>SavGolExtractionGyr</td>\n      <td>CountAdvDetection</td>\n      <td>-0.08638</td>\n      <td>0.186025</td>\n      <td>8.748673</td>\n    </tr>\n    <tr>\n      <th>9</th>\n      <td>SavGolExtractionGyr</td>\n      <td>GradiantDetection</td>\n      <td>-0.08638</td>\n      <td>0.186025</td>\n      <td>14.851874</td>\n    </tr>\n    <tr>\n      <th>10</th>\n      <td>SavGolExtractionAcc</td>\n      <td>PeakDetection</td>\n      <td>-0.011636</td>\n      <td>0.300117</td>\n      <td>76.838792</td>\n    </tr>\n    <tr>\n      <th>11</th>\n      <td>SavGolExtractionAcc</td>\n      <td>PeakThroughDetection</td>\n      <td>-0.011636</td>\n      <td>0.300117</td>\n      <td>10.438534</td>\n    </tr>\n    <tr>\n      <th>12</th>\n      <td>SavGolExtractionAcc</td>\n      <td>CountOrig</td>\n      <td>-0.011636</td>\n      <td>0.300117</td>\n      <td>9.045418</td>\n    </tr>\n    <tr>\n      <th>13</th>\n      <td>SavGolExtractionAcc</td>\n      <td>CountAdvDetection</td>\n      <td>-0.011636</td>\n      <td>0.300117</td>\n      <td>8.705614</td>\n    </tr>\n    <tr>\n      <th>14</th>\n      <td>SavGolExtractionAcc</td>\n      <td>GradiantDetection</td>\n      <td>-0.011636</td>\n      <td>0.300117</td>\n      <td>12.14389</td>\n    </tr>\n  </tbody>\n</table>\n</div>"
     },
     "execution_count": 10,
     "metadata": {},
     "output_type": "execute_result"
    }
   ],
   "source": [
    "# Create IMU Results\n",
    "result_dataframe_wide = pd.DataFrame(\n",
    "    columns=[\n",
    "        \"Extraction\",\n",
    "        \"Estimation\",\n",
    "        \"Correlation Mean\",\n",
    "        \"Correlation STD\",\n",
    "        \"RR Mean Absolute Error\",\n",
    "    ]\n",
    ")\n",
    "for extraction in imu_extractions:\n",
    "    for estimation in estimations:\n",
    "        nils_differences = differences.loc[:,:,:,extraction,estimation,\"NilsPod IMU\",:][\"Values\"]\n",
    "        nils_ccs = ccs.loc[:,:,:,extraction,estimation,\"NilsPod IMU\",:][\"Values\"]\n",
    "        # Mean absolute Error\n",
    "        algorithm_mean_error = abs(nils_differences).mean()\n",
    "        # Mean CC\n",
    "        algorithm_cc_mean= nils_ccs.mean()\n",
    "        algorithm_cc_std = nils_ccs.std()\n",
    "\n",
    "        row_dict = {\n",
    "            \"Extraction\": extraction,\n",
    "            \"Estimation\": estimation,\n",
    "            \"Correlation Mean\": algorithm_cc_mean,\n",
    "            \"Correlation STD\":algorithm_cc_std,\n",
    "            \"RR Mean Absolute Error\": algorithm_mean_error\n",
    "        }\n",
    "        append = pd.DataFrame(row_dict,index=[0])\n",
    "        result_dataframe_wide = pd.concat(\n",
    "                [result_dataframe_wide, append], ignore_index=True\n",
    "        )\n",
    "\n",
    "nilspod_imu_results = result_dataframe_wide\n",
    "nilspod_imu_results"
   ],
   "metadata": {
    "collapsed": false,
    "pycharm": {
     "name": "#%%\n"
    }
   }
  },
  {
   "cell_type": "code",
   "execution_count": 11,
   "outputs": [
    {
     "ename": "KeyError",
     "evalue": "Index(['Sensor'], dtype='object')",
     "output_type": "error",
     "traceback": [
      "\u001B[0;31m---------------------------------------------------------------------------\u001B[0m",
      "\u001B[0;31mKeyError\u001B[0m                                  Traceback (most recent call last)",
      "Input \u001B[0;32mIn [11]\u001B[0m, in \u001B[0;36m<cell line: 4>\u001B[0;34m()\u001B[0m\n\u001B[1;32m      1\u001B[0m \u001B[38;5;66;03m#Create Overall Statistics for correlation but delete correlation for latex table\u001B[39;00m\n\u001B[1;32m      2\u001B[0m results_overall \u001B[38;5;241m=\u001B[39m pd\u001B[38;5;241m.\u001B[39mconcat([biopac_results,nilspod_ecg_results,nilspod_imu_results])\n\u001B[0;32m----> 4\u001B[0m results_overall \u001B[38;5;241m=\u001B[39m \u001B[43mresults_overall\u001B[49m\u001B[38;5;241;43m.\u001B[39;49m\u001B[43mdrop_duplicates\u001B[49m\u001B[43m(\u001B[49m\u001B[43m[\u001B[49m\u001B[38;5;124;43m\"\u001B[39;49m\u001B[38;5;124;43mSensor\u001B[39;49m\u001B[38;5;124;43m\"\u001B[39;49m\u001B[43m,\u001B[49m\u001B[38;5;124;43m\"\u001B[39;49m\u001B[38;5;124;43mExtraction\u001B[39;49m\u001B[38;5;124;43m\"\u001B[39;49m\u001B[43m]\u001B[49m\u001B[43m)\u001B[49m\n\u001B[1;32m      5\u001B[0m results_overall\u001B[38;5;241m.\u001B[39mreset_index(drop\u001B[38;5;241m=\u001B[39m\u001B[38;5;28;01mFalse\u001B[39;00m)\n\u001B[1;32m      6\u001B[0m results_overall\u001B[38;5;241m.\u001B[39msort_values(by\u001B[38;5;241m=\u001B[39m[\u001B[38;5;124m\"\u001B[39m\u001B[38;5;124mCorrelation Mean\u001B[39m\u001B[38;5;124m\"\u001B[39m], key\u001B[38;5;241m=\u001B[39m\u001B[38;5;28mabs\u001B[39m)\n",
      "File \u001B[0;32m~/git/ba-philipp-doerfler/Code/respiration_extraction/.venv/lib/python3.9/site-packages/pandas/util/_decorators.py:311\u001B[0m, in \u001B[0;36mdeprecate_nonkeyword_arguments.<locals>.decorate.<locals>.wrapper\u001B[0;34m(*args, **kwargs)\u001B[0m\n\u001B[1;32m    305\u001B[0m \u001B[38;5;28;01mif\u001B[39;00m \u001B[38;5;28mlen\u001B[39m(args) \u001B[38;5;241m>\u001B[39m num_allow_args:\n\u001B[1;32m    306\u001B[0m     warnings\u001B[38;5;241m.\u001B[39mwarn(\n\u001B[1;32m    307\u001B[0m         msg\u001B[38;5;241m.\u001B[39mformat(arguments\u001B[38;5;241m=\u001B[39marguments),\n\u001B[1;32m    308\u001B[0m         \u001B[38;5;167;01mFutureWarning\u001B[39;00m,\n\u001B[1;32m    309\u001B[0m         stacklevel\u001B[38;5;241m=\u001B[39mstacklevel,\n\u001B[1;32m    310\u001B[0m     )\n\u001B[0;32m--> 311\u001B[0m \u001B[38;5;28;01mreturn\u001B[39;00m \u001B[43mfunc\u001B[49m\u001B[43m(\u001B[49m\u001B[38;5;241;43m*\u001B[39;49m\u001B[43margs\u001B[49m\u001B[43m,\u001B[49m\u001B[43m \u001B[49m\u001B[38;5;241;43m*\u001B[39;49m\u001B[38;5;241;43m*\u001B[39;49m\u001B[43mkwargs\u001B[49m\u001B[43m)\u001B[49m\n",
      "File \u001B[0;32m~/git/ba-philipp-doerfler/Code/respiration_extraction/.venv/lib/python3.9/site-packages/pandas/core/frame.py:6116\u001B[0m, in \u001B[0;36mDataFrame.drop_duplicates\u001B[0;34m(self, subset, keep, inplace, ignore_index)\u001B[0m\n\u001B[1;32m   6114\u001B[0m inplace \u001B[38;5;241m=\u001B[39m validate_bool_kwarg(inplace, \u001B[38;5;124m\"\u001B[39m\u001B[38;5;124minplace\u001B[39m\u001B[38;5;124m\"\u001B[39m)\n\u001B[1;32m   6115\u001B[0m ignore_index \u001B[38;5;241m=\u001B[39m validate_bool_kwarg(ignore_index, \u001B[38;5;124m\"\u001B[39m\u001B[38;5;124mignore_index\u001B[39m\u001B[38;5;124m\"\u001B[39m)\n\u001B[0;32m-> 6116\u001B[0m duplicated \u001B[38;5;241m=\u001B[39m \u001B[38;5;28;43mself\u001B[39;49m\u001B[38;5;241;43m.\u001B[39;49m\u001B[43mduplicated\u001B[49m\u001B[43m(\u001B[49m\u001B[43msubset\u001B[49m\u001B[43m,\u001B[49m\u001B[43m \u001B[49m\u001B[43mkeep\u001B[49m\u001B[38;5;241;43m=\u001B[39;49m\u001B[43mkeep\u001B[49m\u001B[43m)\u001B[49m\n\u001B[1;32m   6118\u001B[0m result \u001B[38;5;241m=\u001B[39m \u001B[38;5;28mself\u001B[39m[\u001B[38;5;241m-\u001B[39mduplicated]\n\u001B[1;32m   6119\u001B[0m \u001B[38;5;28;01mif\u001B[39;00m ignore_index:\n",
      "File \u001B[0;32m~/git/ba-philipp-doerfler/Code/respiration_extraction/.venv/lib/python3.9/site-packages/pandas/core/frame.py:6250\u001B[0m, in \u001B[0;36mDataFrame.duplicated\u001B[0;34m(self, subset, keep)\u001B[0m\n\u001B[1;32m   6248\u001B[0m diff \u001B[38;5;241m=\u001B[39m Index(subset)\u001B[38;5;241m.\u001B[39mdifference(\u001B[38;5;28mself\u001B[39m\u001B[38;5;241m.\u001B[39mcolumns)\n\u001B[1;32m   6249\u001B[0m \u001B[38;5;28;01mif\u001B[39;00m \u001B[38;5;129;01mnot\u001B[39;00m diff\u001B[38;5;241m.\u001B[39mempty:\n\u001B[0;32m-> 6250\u001B[0m     \u001B[38;5;28;01mraise\u001B[39;00m \u001B[38;5;167;01mKeyError\u001B[39;00m(diff)\n\u001B[1;32m   6252\u001B[0m vals \u001B[38;5;241m=\u001B[39m (col\u001B[38;5;241m.\u001B[39mvalues \u001B[38;5;28;01mfor\u001B[39;00m name, col \u001B[38;5;129;01min\u001B[39;00m \u001B[38;5;28mself\u001B[39m\u001B[38;5;241m.\u001B[39mitems() \u001B[38;5;28;01mif\u001B[39;00m name \u001B[38;5;129;01min\u001B[39;00m subset)\n\u001B[1;32m   6253\u001B[0m labels, shape \u001B[38;5;241m=\u001B[39m \u001B[38;5;28mmap\u001B[39m(\u001B[38;5;28mlist\u001B[39m, \u001B[38;5;28mzip\u001B[39m(\u001B[38;5;241m*\u001B[39m\u001B[38;5;28mmap\u001B[39m(f, vals)))\n",
      "\u001B[0;31mKeyError\u001B[0m: Index(['Sensor'], dtype='object')"
     ]
    }
   ],
   "source": [
    "#Create Overall Statistics for correlation but delete correlation for latex table\n",
    "results_overall = pd.concat([biopac_results,nilspod_ecg_results,nilspod_imu_results])\n",
    "\n",
    "results_overall = results_overall.drop_duplicates([\"Sensor\",\"Extraction\"])\n",
    "results_overall.reset_index(drop=False)\n",
    "results_overall.sort_values(by=[\"Correlation Mean\"], key=abs)\n",
    "\n",
    "\n"
   ],
   "metadata": {
    "collapsed": false,
    "pycharm": {
     "name": "#%%\n"
    }
   }
  },
  {
   "cell_type": "code",
   "execution_count": null,
   "outputs": [],
   "source": [
    "\n",
    "print(results_overall)\n",
    "del results_overall[\"Correlation STD\"]\n",
    "del results_overall[\"Correlation Mean\"]\n",
    "\n",
    "results_overall = results_overall.reindex(columns=[\"Extraction\", \"Estimation\", \"Sensor\", \"RR Mean Absolute Error\"])\n",
    "results_overall = results_overall.sort_values(by=\"RR Mean Absolute Error\")\n",
    "print(results_overall)\n",
    "latex = results_overall.to_latex()\n",
    "filename=\"/Users/Philipp/git/ba-philipp-doerfler/Thesis/BA_Philipp_Doerfler/img/table.tex\"\n",
    "latex_file = open(filename , \"w\")\n",
    "latex_file.write(latex)\n",
    "latex_file.close()"
   ],
   "metadata": {
    "collapsed": false,
    "pycharm": {
     "name": "#%%\n"
    }
   }
  },
  {
   "cell_type": "code",
   "execution_count": null,
   "outputs": [],
   "source": [
    "biopac_results[\"Sensor\"] = \"BioPac ECG\"\n",
    "biopac_results.set_index([\"Sensor\", \"Extraction\" , \"Estimation\"], append=True)\n",
    "\n",
    "nilspod_ecg_results[\"Sensor\"] = \"NilsPod ECG\"\n",
    "nilspod_ecg_results.set_index([\"Sensor\", \"Extraction\" , \"Estimation\"], append=True)\n",
    "\n",
    "nilspod_imu_results[\"Sensor\"] = \"NilsPod IMU\"\n",
    "nilspod_imu_results.set_index([\"Sensor\", \"Extraction\" , \"Estimation\"], append=True)"
   ],
   "metadata": {
    "collapsed": false,
    "pycharm": {
     "name": "#%%\n"
    }
   }
  },
  {
   "cell_type": "code",
   "execution_count": null,
   "outputs": [],
   "source": [
    "#Boxplots of Extractions for sensor types\n",
    "fig ,ax = plt.subplots()\n",
    "data = final.loc[(slice(None),slice(None),[\"Metronome Breathing\"],['ExtractionKarlen',\"SavGolExtractionAcc\"],slice(None),slice(None),\"CC\"),:].reset_index(level=[\"Sensor\"])\n",
    "print(data)\n",
    "from fau_colors import cmaps\n",
    "palette = cmaps.faculties_light\n",
    "sns.set_theme(context=\"talk\",  style=\"ticks\",font = \"sans-serif\", palette=palette)\n",
    "plt.rcParams[\"pdf.fonttype\"] = 42\n",
    "plt.rcParams[\"mathtext.default\"] = \"regular\"\n",
    "\n",
    "# bio = final_wide.loc[:,:,:,:,:,\"Biopac ECG\"][\"CC\"]\n",
    "# imu = final_wide.loc[:,:,:,:,:,\"NilsPod IMU\"][\"CC\"]\n",
    "# nils = final_wide.loc[:,:,:,:,:,\"NilsPod ECG\"][\"CC\"]\n",
    "#data.set_index([\"Study\" , \"Participant\", \"Phase\",\"Extraction\",\"Estimation\"])\n",
    "# data = data.reset_index(drop=False)\n",
    "sns.set_theme(context=\"notebook\", style=\"ticks\", palette=palette)\n",
    "sns.violinplot(data=data, x=\"Sensor\", y = \"Values\" , flierprops={\"marker\": \"x\"}, ax=ax)\n",
    "#Speichern\n",
    "file=\"/Users/Philipp/git/ba-philipp-doerfler/Thesis/BA_Philipp_Doerfler/img/SensorBoxPlots.pdf\"\n",
    "ax.set_ylabel(\"Pearson correlation coefficient\")\n",
    "ax.set_xlabel(\"Signal used for extraction\")\n",
    "\n",
    "\n",
    "fig.align_ylabels()\n",
    "fig.align_xlabels()\n",
    "fig.savefig(file)\n"
   ],
   "metadata": {
    "collapsed": false,
    "pycharm": {
     "name": "#%%\n"
    }
   }
  },
  {
   "cell_type": "code",
   "execution_count": null,
   "outputs": [],
   "source": [
    "# CC of the best Algorithm (ExtractionKarlen) for all phases with violin Plots\n",
    "fig,ax = plt.subplots( nrows=2,figsize=(10,10))\n",
    "saturation = 1\n",
    "# Filter df for best Combination and Phases\n",
    "phases_plot1 =  [\n",
    "        \"Metronome Breathing\",\n",
    "        \"Inhalation and hold\",\n",
    "        \"Exhalation and hold\",\n",
    "        \"Hyperventilation\",]\n",
    "phases_plot2 = [\n",
    "        \"Speaking\",\n",
    "        \"Standing and rest\",\n",
    "        \"Sitting and rest\",\n",
    "        \"4-7-8 breathing\",\n",
    "        ]\n",
    "data_phases1_4 = final.loc[(slice(None),slice(None),phases_plot1,\"ExtractionKarlen\",\"GradiantDetection\",\"Biopac ECG\",\"CC\"),:].reset_index(level=\"Phase\")\n",
    "data_phases5_8 = final.loc[(slice(None),slice(None),phases_plot2,\"ExtractionKarlen\",\"GradiantDetection\",\"Biopac ECG\",\"CC\"),:].reset_index(level=\"Phase\")\n",
    "\n",
    "sns.set_theme(context=\"talk\",  style=\"ticks\",font = \"sans-serif\", palette=palette)\n",
    "\n",
    "sns.violinplot(data=data_phases1_4,cut=2,x =\"Phase\", y=\"Values\",saturation=saturation, ax=ax[0])\n",
    "sns.swarmplot(data=data_phases1_4, x=\"Phase\", y=\"Values\",ax=ax[0], palette=cmaps.faculties_dark)\n",
    "\n",
    "sns.violinplot(data= data_phases5_8,cut=1, x =\"Phase\", y=\"Values\",saturation=saturation, ax=ax[1])\n",
    "sns.swarmplot(data= data_phases5_8, x=\"Phase\", y=\"Values\",ax=ax[1],palette=cmaps.faculties_dark)\n",
    "\n",
    "\n",
    "file=\"/Users/Philipp/git/ba-philipp-doerfler/Presentations/final_talk/img/BestAlgoPhasesCC_ViolinPlots.pdf\"\n",
    "ax[0].set_ylabel(\"Pearson correlation coefficient\")\n",
    "ax[0].set_xlabel(\"Phases\")\n",
    "ax[0].xaxis.label.set_fontsize(15)\n",
    "ax[0].yaxis.label.set_fontsize(15)\n",
    "ax[0].set_ylim(-1,1)\n",
    "\n",
    "\n",
    "ax[1].set_ylabel(\"Pearson correlation coefficient\")\n",
    "ax[1].set_xlabel(\"Phases\")\n",
    "ax[1].xaxis.label.set_fontsize(15)\n",
    "ax[1].yaxis.label.set_fontsize(15)\n",
    "ax[1].set_ylim(-1,1)\n",
    "fig.align_ylabels()\n",
    "fig.align_xlabels()\n",
    "fig.tight_layout()\n",
    "fig.savefig(file)"
   ],
   "metadata": {
    "collapsed": false,
    "pycharm": {
     "name": "#%%\n"
    }
   }
  },
  {
   "cell_type": "code",
   "execution_count": null,
   "outputs": [],
   "source": [
    "# CC of the best Algorithm (ExtractionKarlen) for all phases with Box Plots\n",
    "fig,ax = plt.subplots( nrows=2,figsize=(10,10))\n",
    "saturation = 1\n",
    "# Filter df for best Combination and Phases\n",
    "phases_plot1 =  [\n",
    "        \"Metronome Breathing\",\n",
    "        \"Inhalation and hold\",\n",
    "        \"Exhalation and hold\",\n",
    "        \"Hyperventilation\",]\n",
    "phases_plot2 = [\n",
    "        \"Speaking\",\n",
    "        \"Standing and rest\",\n",
    "        \"Sitting and rest\",\n",
    "        \"4-7-8 breathing\",\n",
    "        ]\n",
    "data_phases1_4 = final.loc[(slice(None),slice(None),phases_plot1,\"ExtractionKarlen\",\"GradiantDetection\",slice(None),\"CC\"),:].reset_index(level=\"Phase\")\n",
    "data_phases5_8 = final.loc[(slice(None),slice(None),phases_plot2,\"ExtractionKarlen\",\"GradiantDetection\",slice(None),\"CC\"),:].reset_index(level=\"Phase\")\n",
    "\n",
    "sns.set_theme(context=\"talk\",  style=\"ticks\",font = \"sans-serif\", palette=palette)\n",
    "\n",
    "sns.boxplot(data=data_phases1_4,x =\"Phase\", y=\"Values\",saturation=saturation, ax=ax[0])\n",
    "sns.swarmplot(data=data_phases1_4, x=\"Phase\", y=\"Values\",ax=ax[0], palette=cmaps.faculties_dark)\n",
    "\n",
    "sns.boxplot(data=data_phases5_8,x =\"Phase\", y=\"Values\",saturation=saturation, ax=ax[1])\n",
    "sns.swarmplot(data= data_phases5_8, x=\"Phase\", y=\"Values\",ax=ax[1],palette=cmaps.faculties_dark)\n",
    "\n",
    "\n",
    "file=\"/Users/Philipp/git/ba-philipp-doerfler/Thesis/BA_Philipp_Doerfler/img/BestAlgoPhasesCC_Boxplots.pdf\"\n",
    "ax[0].set_ylabel(\"Pearson correlation coefficient\")\n",
    "ax[0].set_xlabel(\"Phases\")\n",
    "ax[0].xaxis.label.set_fontsize(15)\n",
    "ax[0].yaxis.label.set_fontsize(15)\n",
    "ax[0].set_ylim(-1,1)\n",
    "\n",
    "\n",
    "ax[1].set_ylabel(\"Pearson correlation coefficient\")\n",
    "ax[1].set_xlabel(\"Phases\")\n",
    "ax[1].xaxis.label.set_fontsize(15)\n",
    "ax[1].yaxis.label.set_fontsize(15)\n",
    "ax[1].set_ylim(-1,1)\n",
    "fig.align_ylabels()\n",
    "fig.align_xlabels()\n",
    "fig.tight_layout()\n",
    "fig.savefig(file)"
   ],
   "metadata": {
    "collapsed": false,
    "pycharm": {
     "name": "#%%\n"
    }
   }
  },
  {
   "cell_type": "markdown",
   "source": [
    "# Respiration Rate Estimation"
   ],
   "metadata": {
    "collapsed": false,
    "pycharm": {
     "name": "#%% md\n"
    }
   }
  },
  {
   "cell_type": "code",
   "execution_count": null,
   "outputs": [],
   "source": [
    "# Find the best Algorithm for RR Estimation\n",
    "# Get 2 Lists for each algorithm with all predicted Respiration rates and their Ground truth\n",
    "residiual_data = pd.DataFrame(columns=[\"Extraction\", \"Estimation\" ,\"Sensor\", \"RR\" , \"GT\"])\n",
    "\n",
    "for extraction in ecg_extractions:\n",
    "    for estimation in estimations:\n",
    "        #Get RRs and GTs for the algorithm combination\n",
    "        rrs = list(final.loc[(\"BA_Philipp\", slice(None) , relevant_phases , extraction, estimation, \"Biopac ECG\", \"RR\"),:])\n",
    "        gts = list(final.loc[(\"BA_Philipp\", slice(None) , relevant_phases , extraction, estimation, \"Biopac ECG\", \"GT\"),:])\n",
    "        #create df row\n",
    "        residiual_dic = {\"Extraction\": extraction , \"Estimation\": estimation , \"Sensor\": \"Biopac ECG\" , \"RR\": np.nan, \"GT\": np.nan}\n",
    "        append = pd.DataFrame(residiual_dic, index=[0])\n",
    "        append[\"RR\"] = append[\"RR\"].astype('object')\n",
    "        append[\"GT\"] = append[\"GT\"].astype('object')\n",
    "        #Set the whole list as value in one field\n",
    "        append.at[0,\"RR\"] = rrs\n",
    "        append.at[0,\"GT\"] = gts\n",
    "        residiual_data = pd.concat([residiual_data,append] ,ignore_index=True)\n",
    "\n",
    "residiual_data = residiual_data.set_index([\"Extraction\", \"Estimation\"])\n",
    "residiual_data.index = pd.MultiIndex.from_frame(pd.DataFrame(index=residiual_data.index).reset_index().astype(str))\n",
    "residiual_data"
   ],
   "metadata": {
    "collapsed": false,
    "pycharm": {
     "name": "#%%\n"
    }
   }
  },
  {
   "cell_type": "markdown",
   "source": [
    "## Rate estimation"
   ],
   "metadata": {
    "collapsed": false,
    "pycharm": {
     "name": "#%% md\n"
    }
   }
  },
  {
   "cell_type": "code",
   "execution_count": null,
   "outputs": [],
   "source": [
    "#Create Residual Plot for Fused RR Estimation Algorithm\n",
    "fig,ax = plt.subplots(figsize = (8,8))\n",
    "sns.set_theme(context=\"talk\",  style=\"ticks\",font = \"sans-serif\", palette=palette)\n",
    "\n",
    "def fuse(*resp_rates: float):\n",
    "    # Calculate Standarddeviation of all RRs\n",
    "    std = np.std(resp_rates)\n",
    "    # If std <= 4 bpm then estimate RR as the mean else no Output\n",
    "    if std <= 4.0:\n",
    "        respiration_rate_fused = np.mean(resp_rates)\n",
    "    else:\n",
    "        respiration_rate_fused = np.nan\n",
    "    return respiration_rate_fused\n",
    "\n",
    "\n",
    "ecg_datapoints = final.loc[(slice(None), slice(None),slice(None),\"ExtractionSoni2019\",\"CountOrig\", \"Biopac ECG\", slice(None)),:]\n",
    "\n",
    "imu_datapoints = final.loc[(slice(None), slice(None),slice(None),\"ExtractionSarkar2015\",\"CountOrig\", \"Biopac ECG\", slice(None)),:]\n",
    "\n",
    "nils_datapoints = final.loc[(slice(None), slice(None),slice(None),\"ExtractionCharlton\",\"CountOrig\", \"NilsPod ECG\", slice(None)),:]\n",
    "ad1 = final.loc[(slice(None), slice(None),slice(None),\"PositionalVectorExtraction\",\"CountOrig\", \"NilsPod IMU\", slice(None)),:]\n",
    "ad2= final.loc[(slice(None), slice(None),slice(None),\"SavGolExtractionAcc\",\"CountOrig\", \"NilsPod IMU\", slice(None)),:]\n",
    "\n",
    "\n",
    "dataframe = pd.DataFrame(columns=[\"Subject\" , \"Phase\",\"RR\", \"GT\"])\n",
    "for subject in final.index.levels[1]:\n",
    "    for phase in relevant_phases:\n",
    "        rr_1 = ecg_datapoints.loc[(slice(None),subject,phase,slice(None),slice(None),slice(None),'RR'),:].iloc[0,0]\n",
    "        rr_2 = imu_datapoints.loc[(slice(None),subject,phase,slice(None),slice(None),slice(None),'RR'),:].iloc[0,0]\n",
    "        rr_3 = nils_datapoints.loc[(slice(None),subject,phase,slice(None),slice(None),slice(None),'RR'),:].iloc[0,0]\n",
    "        rr_4 = ad1.loc[(slice(None),subject,phase,slice(None),slice(None),slice(None),'RR'),:].iloc[0,0]\n",
    "        rr_5 = ad2.loc[(slice(None),subject,phase,slice(None),slice(None),slice(None),'RR'),:].iloc[0,0]\n",
    "        fused = fuse(rr_1,rr_2,rr_3,rr_4,rr_5)\n",
    "        try:\n",
    "            gt = ecg_datapoints.loc[(slice(None),subject,phase,slice(None),slice(None),slice(None),\"GT\"),:].iloc[0,0]\n",
    "        except KeyError:\n",
    "            gt = np.nan\n",
    "\n",
    "        if (fused == np.nan or gt == np.nan):\n",
    "            print(fused,gt)\n",
    "            continue\n",
    "        dict = {\"Subject\": subject, \"Phase\": phase , \"RR\": fused, \"GT\" :gt}\n",
    "        append = pd.DataFrame(dict, index=[\"0\"])\n",
    "        dataframe = pd.concat([dataframe,append])\n",
    "dataframe = dataframe.reset_index(drop=True)\n",
    "dataframe = dataframe.dropna()\n",
    "dataframe[[\"RR\",\"GT\"]]= dataframe[[\"RR\",\"GT\"]].astype(float)\n",
    "print(dataframe)\n",
    "#Create Plot\n",
    "dataframe = dataframe.dropna()\n",
    "sns.scatterplot( x=dataframe[\"GT\"], y = (dataframe[\"GT\"]- dataframe[\"RR\"]))\n",
    "ax.set_xlabel(\"Ground Truth RR [BPM]\")\n",
    "ax.set_ylabel(\"Ground Truth RR - Estimated RR [BPM]\")\n",
    "ax.plot([0,100],[0,0],'--')\n",
    "file=\"/Users/Philipp/git/ba-philipp-doerfler/Presentations/final_talk/img/EstimationFusedNew.pdf\"\n",
    "fig.align_ylabels()\n",
    "fig.align_xlabels()\n",
    "fig.tight_layout()\n",
    "fig.savefig(file)\n"
   ],
   "metadata": {
    "collapsed": false,
    "pycharm": {
     "name": "#%%\n"
    }
   }
  },
  {
   "cell_type": "code",
   "execution_count": null,
   "outputs": [],
   "source": [
    "best_algo = data[\n",
    "    data[\"Extraction\"].isin([\"ExtractionSoni2019\"]) & data[\"Estimation\"].isin([\"CountOrig\"]) & data[\"Sensor\"].isin(\n",
    "        [\"Biopac ECG\"])]\n",
    "best_algo_phases = best_algo[best_algo[\"Phase\"].isin([\"Metronome Breathing\",\n",
    "                                                      \"Inhalation and hold\",\n",
    "                                                      \"Exhalation and hold\",\n",
    "                                                      \"Hyperventilation\",\n",
    "                                                      \"Speaking\",\n",
    "                                                      \"Standing and rest\",\n",
    "                                                      \"Sitting and rest\",\n",
    "                                                      \"4-7-8 breathing\", ])]\n",
    "\n",
    "def create_table(df):\n",
    "    return df.to_latex()"
   ],
   "metadata": {
    "collapsed": false,
    "pycharm": {
     "name": "#%%\n"
    }
   }
  },
  {
   "cell_type": "code",
   "execution_count": null,
   "outputs": [],
   "source": [
    "# residualplot for all phases\n",
    "# fig,ax =plt.subplots()\n",
    "# sns.set_theme(context=\"talk\",  style=\"ticks\",font = \"sans-serif\", palette=palette)\n",
    "# final_long = final_wide.dropna().stack()\n",
    "#\n",
    "# df = multi_xs(final_long, [\"CC\" , \"GT\"] , level=\"Performance Indicator\")\n",
    "# rrs = final_long.loc[:,:,:,:,:,\"Biopac ECG\", \"RR\"]\n",
    "# gts = final_long.loc[:,:,:,:,:,\"Biopac ECG\", \"GT\"]\n",
    "#\n",
    "# points = list(zip(list(gts.iloc[:,0]),list(rrs.iloc[:,0])))\n",
    "# points_filtered = [point for point in points if not (-100 > point[0] or point[0] > 100 or -100 > point[1] or point[1] >100)]\n",
    "# x_filtered, y_filtered = zip(*points_filtered)\n",
    "#\n",
    "# sns.residplot(x=list(x_filtered), y =list(y_filtered), ax=ax)\n",
    "\n",
    "\n",
    "# One Residual Plot for best Algorithm\n",
    "fig,ax =plt.subplots(1,figsize=(8,8))\n",
    "sns.set_theme(context=\"talk\",  style=\"ticks\",font = \"sans-serif\", palette=palette)\n",
    "# Get datapoints\n",
    "relevant_phases= [\n",
    "        #\"Initialization\",\n",
    "        #\"Baseline 1\",\n",
    "        \"Speaking\",\n",
    "        #\"Baseline 2\",\n",
    "        \"Standing and rest\",\n",
    "        \"Sitting and rest\",\n",
    "        \"4-7-8 breathing\",\n",
    "        #\"Baseline 3\",\n",
    "        \"Metronome Breathing\",\n",
    "        #\"Baseline 4\",\n",
    "        \"Inhalation and hold\",\n",
    "        \"Exhalation and hold\",\n",
    "        \"Hyperventilation\",\n",
    "    ]\n",
    "datapoints = final.loc[(slice(None), slice(None),relevant_phases,\"ExtractionSoni2019\",\"CountOrig\", \"Biopac ECG\", [\"RR\",\"GT\"]),:].reset_index(level=\"Measurement\")\n",
    "df = pd.DataFrame()\n",
    "df[\"rr\"]=datapoints.Values[datapoints[\"Measurement\"]==\"RR\"]\n",
    "df[\"gt\"]=datapoints.Values[datapoints[\"Measurement\"]==\"GT\"]\n",
    "df[\"diff\"]=abs(df[\"gt\"] - df[\"rr\"])\n",
    "\n",
    "sns.scatterplot(x=df[\"gt\"], y= df[\"gt\"] - df[\"rr\"], ax=ax)\n",
    "ax.plot([0,100],[0,0],'--')\n",
    "#sns.residplot( data=df, x=\"gt\", y=\"rr\",order=0, ax=ax,dropna=True)\n",
    "\n",
    "file=\"/Users/Philipp/git/ba-philipp-doerfler/Presentations/final_talk/img/EstimationBestAlgoNew_real.pdf\"\n",
    "ax.set_ylabel(\"Ground Truth RR - Estimated RR [BPM]\")\n",
    "ax.set_xlabel(\"Ground Truth RR [BPM]\")\n",
    "ax.xaxis.label.set_fontsize(15)\n",
    "ax.yaxis.label.set_fontsize(15)\n",
    "\n",
    "fig.align_ylabels()\n",
    "fig.align_xlabels()\n",
    "fig.tight_layout()\n",
    "fig.savefig(file)"
   ],
   "metadata": {
    "collapsed": false,
    "pycharm": {
     "name": "#%%\n"
    }
   }
  },
  {
   "cell_type": "code",
   "execution_count": null,
   "outputs": [],
   "source": [
    "# Residual Plot for each phase\n",
    "fig,ax = plt.subplots(nrows=4,ncols=2, figsize=(10,20))\n",
    "sns.set_theme(context=\"talk\",  style=\"ticks\",font = \"sans-serif\", palette=palette)\n",
    "data_1 =  final.loc[(slice(None), slice(None),relevant_phases[:len(relevant_phases)//2],\"ExtractionSoni2019\",\"CountOrig\", \"Biopac ECG\", [\"RR\",\"GT\"]),:].reset_index(level=\"Measurement\")\n",
    "df = pd.DataFrame()\n",
    "df[\"rr\"]=data_1.Values[data_1[\"Measurement\"]==\"RR\"]\n",
    "df[\"gt\"]=data_1.Values[data_1[\"Measurement\"]==\"GT\"]\n",
    "df[\"diff\"]=abs(df[\"gt\"] - df[\"rr\"])\n",
    "\n",
    "data_2 = final.loc[(slice(None), slice(None),relevant_phases[len(relevant_phases)//2:],\"ExtractionSoni2019\",\"CountOrig\", \"Biopac ECG\", [\"RR\",\"GT\"]),:].reset_index(level=\"Measurement\")\n",
    "df2 = pd.DataFrame()\n",
    "df2[\"rr\"]=data_2.Values[data_2[\"Measurement\"]==\"RR\"]\n",
    "df2[\"gt\"]=data_2.Values[data_2[\"Measurement\"]==\"GT\"]\n",
    "df2[\"diff\"]=abs(df2[\"gt\"] - df2[\"rr\"])\n",
    "\n",
    "counter=0\n",
    "for phase in relevant_phases[:len(relevant_phases)//2]:\n",
    "    ax[counter,0].plot(df.loc[(slice(None),slice(None),phase,slice(None),slice(None),slice(None)),\"gt\"], df.loc[(slice(None),slice(None),phase,slice(None),slice(None),slice(None)),\"gt\"] - df.loc[(slice(None),slice(None),phase,slice(None),slice(None),slice(None)),\"rr\"] , 'o')\n",
    "    #sns.residplot( data =df.loc[(slice(None),slice(None),phase,slice(None),slice(None),slice(None)),:] , x=\"gt\", y=\"rr\", ax=ax[counter,0])\n",
    "    ax[counter,0].set_title(phase)\n",
    "    ax[counter,0].set_xlabel(\"Ground Truth RR [BPM]\")\n",
    "    ax[counter,0].set_ylabel(\"Ground Truth RR - Estimated RR [BPM]\")\n",
    "    ax[counter,0].set_ylim(-12.5, 12.5)\n",
    "    print(phase, df.loc[(slice(None),slice(None),phase,slice(None),slice(None),slice(None)),:].mean())\n",
    "    counter +=1\n",
    "\n",
    "counter=0\n",
    "for phase in relevant_phases[len(relevant_phases)//2:]:\n",
    "    ax[counter,1].plot(df2.loc[(slice(None),slice(None),phase,slice(None),slice(None),slice(None)),\"gt\"], df2.loc[(slice(None),slice(None),phase,slice(None),slice(None),slice(None)),\"gt\"] - df2.loc[(slice(None),slice(None),phase,slice(None),slice(None),slice(None)),\"rr\"] , 'o')\n",
    "    sns.residplot(data=df2.loc[(slice(None),slice(None),phase,slice(None),slice(None),slice(None)),:],x=\"gt\", y=\"rr\", ax=ax[counter,1])\n",
    "\n",
    "    ax[counter,1].set_title(phase)\n",
    "    ax[counter,1].set_xlabel(\"Ground Truth RR [BPM]\")\n",
    "    ax[counter,1].set_ylabel(\"Ground Truth RR - Estimated RR [BPM]\")\n",
    "    ax[counter,1].set_ylim(-12.5, 12.5)\n",
    "    print(phase, df2.loc[(slice(None),slice(None),phase,slice(None),slice(None),slice(None)),:].mean())\n",
    "    counter +=1\n",
    "\n",
    "file=\"/Users/Philipp/git/ba-philipp-doerfler/Presentations/final_talk/img/EstimationPhases_real.pdf\"\n",
    "fig.align_ylabels()\n",
    "fig.align_xlabels()\n",
    "fig.tight_layout()\n",
    "fig.savefig(file)"
   ],
   "metadata": {
    "collapsed": false,
    "pycharm": {
     "name": "#%%\n"
    }
   }
  },
  {
   "cell_type": "code",
   "execution_count": null,
   "outputs": [],
   "source": [
    "# Calculate the SmartFusion\n",
    "fig,ax = plt.subplots(nrows=4,ncols=2, figsize=(10,20))\n",
    "sns.set_theme(context=\"talk\",  style=\"ticks\",font = \"sans-serif\", palette=palette)\n",
    "#Dataframe erstellen\n",
    "dataframe[\"Diff\"] = abs(dataframe[\"GT\"] - dataframe[\"RR\"])\n",
    "print(dataframe)\n",
    "counter=0\n",
    "for phase in relevant_phases[:len(relevant_phases)//2]:\n",
    "    sns.residplot(data=dataframe.loc[dataframe[\"Phase\"] == phase], x =\"GT\", y = \"RR\", ax=ax[counter,0])\n",
    "    print(phase, dataframe.loc[dataframe[\"Phase\"] == phase][\"Diff\"].mean())\n",
    "    ax[counter,0].set_title(phase)\n",
    "    ax[counter,0].set_xlabel(\"Ground Truth RR [BPM]\")\n",
    "    ax[counter,0].set_ylabel(\"Ground Truth RR - Estimated RR [BPM]\")\n",
    "    ax[counter,0].set_ylim(-12.5, 12.5)\n",
    "    counter+=1\n",
    "\n",
    "counter=0\n",
    "for phase in relevant_phases[len(relevant_phases)//2:]:\n",
    "    sns.residplot(data=dataframe.loc[dataframe[\"Phase\"] == phase], x =\"GT\", y = \"RR\", ax=ax[counter,1])\n",
    "    print(phase, dataframe.loc[dataframe[\"Phase\"] == phase][\"Diff\"].mean())\n",
    "    ax[counter,1].set_title(phase)\n",
    "    ax[counter,1].set_xlabel(\"Ground Truth RR [BPM]\")\n",
    "    ax[counter,1].set_ylabel(\"Ground Truth RR - Estimated RR [BPM]\")\n",
    "    ax[counter,1].set_ylim(-12.5, 12.5)\n",
    "    counter +=1\n",
    "file=\"/Users/Philipp/git/ba-philipp-doerfler/Presentations/final_talk/img/EstimationPhases_fused_new.pdf\"\n",
    "fig.align_ylabels()\n",
    "fig.align_xlabels()\n",
    "fig.tight_layout()\n",
    "fig.savefig(file)"
   ],
   "metadata": {
    "collapsed": false,
    "pycharm": {
     "name": "#%%\n"
    }
   }
  },
  {
   "cell_type": "code",
   "execution_count": null,
   "outputs": [],
   "source": [
    "#Create Big figure with residual plots for each algorithm\n",
    "for extraction in ecg_extractions:\n",
    "    for estimation in estimations:\n",
    "        index1 = ecg_extractions.index(extraction)\n",
    "        index2 = estimations.index(estimation)\n",
    "        y= residiual_data.loc[extraction,estimation][\"RR\"]\n",
    "        x = residiual_data.loc[extraction,estimation][\"GT\"]\n",
    "        ax[index1,index2].set_title( extraction + \" + \" + estimation)\n",
    "        ax[index1,index2].set_xlabel(\"Ground Truth Respiration Rate [BPM]\")\n",
    "        ax[index1,index2].set_ylabel(\"Estimated Respiration Rate - Ground Truth Respiration Rate [BPM]\")\n",
    "        sns.residplot(x=list(x),y=list(y),ax=ax[index1,index2])\n",
    "\n",
    "fig.tight_layout()\n",
    "file=\"/Users/Philipp/git/ba-philipp-doerfler/Thesis/img/Plots/algorithms.pdf\"\n",
    "fig.align_ylabels()\n",
    "fig.set_size_inches(11.69*4,8.27*4)\n",
    "fig.savefig(file)"
   ],
   "metadata": {
    "collapsed": false,
    "pycharm": {
     "name": "#%%\n"
    }
   }
  },
  {
   "cell_type": "code",
   "execution_count": null,
   "outputs": [],
   "source": [],
   "metadata": {
    "collapsed": false,
    "pycharm": {
     "name": "#%%\n"
    }
   }
  }
 ],
 "metadata": {
  "kernelspec": {
   "display_name": "Python 3",
   "language": "python",
   "name": "python3"
  },
  "language_info": {
   "codemirror_mode": {
    "name": "ipython",
    "version": 2
   },
   "file_extension": ".py",
   "mimetype": "text/x-python",
   "name": "python",
   "nbconvert_exporter": "python",
   "pygments_lexer": "ipython2",
   "version": "2.7.6"
  }
 },
 "nbformat": 4,
 "nbformat_minor": 0
}